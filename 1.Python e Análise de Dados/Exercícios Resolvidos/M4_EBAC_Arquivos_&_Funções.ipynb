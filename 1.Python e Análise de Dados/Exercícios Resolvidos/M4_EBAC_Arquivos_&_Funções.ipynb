{
  "cells": [
    {
      "cell_type": "markdown",
      "metadata": {
        "id": "KJqp9AANOCtf"
      },
      "source": [
        "<img src=\"https://raw.githubusercontent.com/andre-marcos-perez/ebac-course-utils/main/media/logo/newebac_logo_black_half.png\" alt=\"ebac-logo\">\n",
        "\n",
        "---\n",
        "\n",
        "# **Módulo** | Python: Arquivos & Funções\n",
        "Caderno de **Exercícios**<br> \n",
        "Professor [André Perez](https://www.linkedin.com/in/andremarcosperez/)\n",
        "\n",
        "---"
      ]
    },
    {
      "cell_type": "markdown",
      "metadata": {
        "id": "d9jDtUbDOE1-"
      },
      "source": [
        "# **Tópicos**\n",
        "\n",
        "<ol type=\"1\">\n",
        "  <li>Leitura;</li>\n",
        "  <li>Escrita;</li>\n",
        "  <li>Funções;</li>\n",
        "  <li>Escopo.</li>\n",
        "</ol>"
      ]
    },
    {
      "cell_type": "markdown",
      "metadata": {
        "id": "SmoHgt-lwkpD"
      },
      "source": [
        "---"
      ]
    },
    {
      "cell_type": "markdown",
      "metadata": {
        "id": "GABI6OW8OfQ2"
      },
      "source": [
        "# **Exercícios**"
      ]
    },
    {
      "cell_type": "markdown",
      "metadata": {
        "id": "muD1vxozykSC"
      },
      "source": [
        "## 0\\. Preparação do ambiente"
      ]
    },
    {
      "cell_type": "markdown",
      "metadata": {
        "id": "ahrFfCuBxJKs"
      },
      "source": [
        "Neste exercício vamos trabalhar com os arquivos de csv e texto definidos abaixo. Execute cada uma das células de código para escrever os arquivos na sua máquina virtual."
      ]
    },
    {
      "cell_type": "markdown",
      "metadata": {
        "id": "u0uFuhRSq_hQ"
      },
      "source": [
        "* **carros.csv**: arquivo csv com informações sobre carros (venda, manutenção, portas, etc.)."
      ]
    },
    {
      "cell_type": "code",
      "execution_count": 52,
      "metadata": {
        "id": "daMf-xaXqKs2",
        "colab": {
          "base_uri": "https://localhost:8080/"
        },
        "outputId": "757b7e81-1c9c-48b5-ad99-3672944e2968"
      },
      "outputs": [
        {
          "output_type": "stream",
          "name": "stdout",
          "text": [
            "Overwriting carros.csv\n"
          ]
        }
      ],
      "source": [
        "%%writefile carros.csv\n",
        "id,valor_venda,valor_manutencao,portas,pessoas,porta_malas\n",
        "1,vhigh,med,2,2,small\n",
        "2,med,vhigh,2,2,small\n",
        "3,low,vhigh,2,2,small\n",
        "4,low,high,2,2,small\n",
        "5,low,high,2,2,small\n",
        "6,low,high,4,4,big\n",
        "7,low,high,4,4,big\n",
        "8,low,med,2,2,small\n",
        "9,low,med,2,2,small\n",
        "10,low,med,2,2,small\n",
        "11,low,med,4,4,big\n",
        "12,low,low,2,2,small\n",
        "13,low,low,4,4,small\n",
        "14,low,low,4,4,med"
      ]
    },
    {
      "cell_type": "markdown",
      "metadata": {
        "id": "X0Z2PhbCrTz1"
      },
      "source": [
        "* **musica.txt**: arquivo texto com a letra da música Roda Viva do Chico Buarque."
      ]
    },
    {
      "cell_type": "code",
      "execution_count": 53,
      "metadata": {
        "id": "m7Ge2rggrU73",
        "colab": {
          "base_uri": "https://localhost:8080/"
        },
        "outputId": "f0b6c32e-a8b2-48e1-a9c2-1f2a4ae09b12"
      },
      "outputs": [
        {
          "output_type": "stream",
          "name": "stdout",
          "text": [
            "Overwriting musica.txt\n"
          ]
        }
      ],
      "source": [
        "%%writefile musica.txt\n",
        "Roda Viva\n",
        "Chico Buarque\n",
        "\n",
        "Tem dias que a gente se sente\n",
        "Como quem partiu ou morreu\n",
        "A gente estancou de repente\n",
        "Ou foi o mundo então que cresceu\n",
        "A gente quer ter voz ativa\n",
        "No nosso destino mandar\n",
        "Mas eis que chega a roda viva\n",
        "E carrega o destino pra lá\n",
        "\n",
        "Roda mundo, roda-gigante\n",
        "Roda moinho, roda pião\n",
        "\n",
        "O tempo rodou num instante\n",
        "Nas voltas do meu coração\n",
        "A gente vai contra a corrente\n",
        "Até não poder resistir\n",
        "Na volta do barco é que sente\n",
        "O quanto deixou de cumprir\n",
        "Faz tempo que a gente cultiva\n",
        "A mais linda roseira que há\n",
        "Mas eis que chega a roda viva\n",
        "E carrega a roseira pra lá\n",
        "\n",
        "Roda mundo, roda-gigante\n",
        "Roda moinho, roda pião"
      ]
    },
    {
      "cell_type": "markdown",
      "metadata": {
        "id": "zMN1Q3jdwoJm"
      },
      "source": [
        "---"
      ]
    },
    {
      "cell_type": "markdown",
      "metadata": {
        "id": "tUB59te_P3kB"
      },
      "source": [
        "## 1. Extração de coluna de arquivo csv "
      ]
    },
    {
      "cell_type": "markdown",
      "metadata": {
        "id": "1XcrmZQNP3kC"
      },
      "source": [
        "1.1. Extraia os valores `valor_venda` e armazena em uma lista."
      ]
    },
    {
      "cell_type": "code",
      "execution_count": 54,
      "metadata": {
        "colab": {
          "base_uri": "https://localhost:8080/"
        },
        "id": "g78oTKBwP3kC",
        "outputId": "e7870732-493e-453f-e12b-7d7d39ff402d"
      },
      "outputs": [
        {
          "output_type": "stream",
          "name": "stdout",
          "text": [
            "['vhigh', 'med', 'low', 'low', 'low', 'low', 'low', 'low', 'low', 'low', 'low', 'low', 'low', 'low']\n",
            "14\n"
          ]
        }
      ],
      "source": [
        "valor_venda = []\n",
        "\n",
        "with open(file='./carros.csv', mode='r', encoding='utf8') as arquivo:\n",
        "    linha = arquivo.readline()# lê o cabeçalho\n",
        "    linha = arquivo.readline() # lê a primeira linha\n",
        "    while linha:\n",
        "        elemento_separado = linha.split(sep = ',')# quebra a string nas virgulas e salva os resultados em uma lista\n",
        "        elemento = elemento_separado[1] # seleciona o segundo elemento da lista\n",
        "        valor_venda.append(elemento) # salva o valor na lista de valor_venda\n",
        "        linha = arquivo.readline() # lê uma nova linha, se a linha não existir, salva o valor None\n",
        "\n",
        "print(valor_venda)\n",
        "print(len(valor_venda))"
      ]
    },
    {
      "cell_type": "markdown",
      "metadata": {
        "id": "bsxAhiNWP3kD"
      },
      "source": [
        "1.2 Complete a função abaixo para extrair uma coluna, do arquivo csv em uma lista.\n"
      ]
    },
    {
      "cell_type": "code",
      "execution_count": 55,
      "metadata": {
        "id": "-XpG0ActP3kD"
      },
      "outputs": [],
      "source": [
        "def extrai_coluna_csv(nome_arquivo: str, indice_coluna: int):\n",
        "\n",
        "  coluna = []\n",
        "\n",
        "  # leia o arquivo com o comando 'with' utilizando o parametro 'nome_arquivo'\n",
        "  # extraia a coluna do arquivo utilizando o parametro 'indice_coluna'\n",
        "\n",
        "  with open(file='./carros.csv', mode='r', encoding='utf8') as carros:\n",
        "    linha = carros.readline()\n",
        "    linha = carros.readline()\n",
        "    while linha:\n",
        "        coluna_separada = linha.split(sep = ',')\n",
        "        elemento = coluna_separada[indice_coluna]\n",
        "        coluna.append(elemento)\n",
        "        linha = carros.readline()\n",
        "    \n",
        "  return (coluna)\n",
        "    "
      ]
    },
    {
      "cell_type": "markdown",
      "metadata": {
        "id": "qOlxFjg1P3kE"
      },
      "source": [
        "Você pode testar a função com os códigos abaixo."
      ]
    },
    {
      "cell_type": "code",
      "execution_count": 56,
      "metadata": {
        "colab": {
          "base_uri": "https://localhost:8080/"
        },
        "id": "gLQhrIfzP3kE",
        "outputId": "70e3528c-d815-4279-e1fa-a468701ef98a"
      },
      "outputs": [
        {
          "output_type": "stream",
          "name": "stdout",
          "text": [
            "['med', 'vhigh', 'vhigh', 'high', 'high', 'high', 'high', 'med', 'med', 'med', 'med', 'low', 'low', 'low']\n"
          ]
        }
      ],
      "source": [
        "# extrair a coluna valor_manutencao\n",
        "valor_manutencao = extrai_coluna_csv(nome_arquivo='./carros.csv', indice_coluna=2)\n",
        "\n",
        "\n",
        "print(valor_manutencao) # deve retornar ['med', 'vhigh', 'vhigh', ...]\n"
      ]
    },
    {
      "cell_type": "code",
      "execution_count": 57,
      "metadata": {
        "id": "RQdLRXKnP3kF",
        "colab": {
          "base_uri": "https://localhost:8080/"
        },
        "outputId": "6653e945-dba0-4dd9-ae2a-12dbd6ed5ad7"
      },
      "outputs": [
        {
          "output_type": "stream",
          "name": "stdout",
          "text": [
            "['small\\n', 'small\\n', 'small\\n', 'small\\n', 'small\\n', 'big\\n', 'big\\n', 'small\\n', 'small\\n', 'small\\n', 'big\\n', 'small\\n', 'small\\n', 'med\\n']\n"
          ]
        }
      ],
      "source": [
        "# extrair a coluna porta_malas\n",
        "porta_malas = extrai_coluna_csv(nome_arquivo='./carros.csv', indice_coluna=5)\n",
        "\n",
        "print(porta_malas) # deve retornar ['small', 'small', 'small', ...]"
      ]
    },
    {
      "cell_type": "markdown",
      "metadata": {
        "id": "UGYzaWDRP3kG"
      },
      "source": [
        "# Exercício bônus"
      ]
    },
    {
      "cell_type": "markdown",
      "metadata": {
        "id": "U4S19ZvHsPcE"
      },
      "source": [
        "## 1\\. Funções para arquivo csv"
      ]
    },
    {
      "cell_type": "markdown",
      "metadata": {
        "id": "Mcf3mkOrtHzK"
      },
      "source": [
        "Complete a função abaixo para extrair uma coluna do arquivo csv em uma lista. Os elementos devem ter o tipo de dado correto."
      ]
    },
    {
      "cell_type": "code",
      "execution_count": 58,
      "metadata": {
        "id": "W-1PAg7Ctt7i"
      },
      "outputs": [],
      "source": [
        "def extrai_coluna_csv(nome_arquivo: str, indice_coluna: int, tipo_dado: str):\n",
        "\n",
        "  coluna = []\n",
        "\n",
        "  # leia o arquivo com o comando 'with' utilizando o parametro 'nome_arquivo'\n",
        "  # extraia a coluna do arquivo utilizando o parametro 'indice_coluna'\n",
        "  # use a estrutura de decisão if/elif/else para fazer a conversão do tipo de dados utilizando o parametro 'tipo_dado'\n",
        "  \n",
        "  with open(file='./carros.csv', mode='r', encoding='utf8') as carros:\n",
        "    linhas = carros.readlines()\n",
        "\n",
        "    for linha in linhas:\n",
        "      colunas = linha.split(sep=',')\n",
        "\n",
        "      valor = colunas[indice_coluna]\n",
        "\n",
        "      if tipo_dado == int:\n",
        "        valor=str(valor)\n",
        "\n",
        "      coluna.append(valor)\n",
        "\n",
        "\n",
        "  return coluna"
      ]
    },
    {
      "cell_type": "markdown",
      "source": [],
      "metadata": {
        "id": "-DWdbyHT6Lwo"
      }
    },
    {
      "cell_type": "markdown",
      "metadata": {
        "id": "qCbQF6jru_01"
      },
      "source": [
        "Você pode testar a função com os códigos abaixo."
      ]
    },
    {
      "cell_type": "code",
      "execution_count": 59,
      "metadata": {
        "id": "Rl-EYdySu90s",
        "colab": {
          "base_uri": "https://localhost:8080/"
        },
        "outputId": "fcaa407e-9eca-4640-9c62-1bf425237c0c"
      },
      "outputs": [
        {
          "output_type": "stream",
          "name": "stdout",
          "text": [
            "['valor_venda', 'vhigh', 'med', 'low', 'low', 'low', 'low', 'low', 'low', 'low', 'low', 'low', 'low', 'low', 'low']\n"
          ]
        }
      ],
      "source": [
        "# extrair a coluna valor_venda\n",
        "valor_venda = extrai_coluna_csv(nome_arquivo='./carros.csv', indice_coluna=1, tipo_dado='str')\n",
        "\n",
        "print(valor_venda) # deve retornar ['vhigh', 'med', 'low', ...]"
      ]
    },
    {
      "cell_type": "code",
      "execution_count": 60,
      "metadata": {
        "id": "hvD-zzwDwboD",
        "colab": {
          "base_uri": "https://localhost:8080/"
        },
        "outputId": "084e4c2e-d355-4a47-8dcf-e7f28841ebaa"
      },
      "outputs": [
        {
          "output_type": "stream",
          "name": "stdout",
          "text": [
            "['pessoas', '2', '2', '2', '2', '2', '4', '4', '2', '2', '2', '4', '2', '4', '4']\n"
          ]
        }
      ],
      "source": [
        "# extrair a coluna pessoas\n",
        "pessoas = extrai_coluna_csv(nome_arquivo='./carros.csv', indice_coluna=4, tipo_dado='int')\n",
        "\n",
        "print(pessoas) # deve retornar [2, 2, 2, ...]"
      ]
    },
    {
      "cell_type": "markdown",
      "metadata": {
        "id": "QTS5-sSbs4ie"
      },
      "source": [
        "---"
      ]
    },
    {
      "cell_type": "markdown",
      "metadata": {
        "id": "sebqs6uztCH4"
      },
      "source": [
        "## 2\\. Funções para arquivo txt"
      ]
    },
    {
      "cell_type": "markdown",
      "metadata": {
        "id": "IFVBGkNhzB3P"
      },
      "source": [
        "Complete a função abaixo para extrair uma as palavras de uma linha do arquivo txt em uma lista."
      ]
    },
    {
      "cell_type": "code",
      "execution_count": 61,
      "metadata": {
        "id": "ewrNqMtczWZJ"
      },
      "outputs": [],
      "source": [
        "def extrai_linha_txt(nome_arquivo: str, numero_linha: int):\n",
        "\n",
        "  palavras_linha = []\n",
        "\n",
        "  # leia o arquivo com o comando 'with' utilizando o parametro 'nome_arquivo'\n",
        "  # extraia a linha do arquivo utilizando o parametro 'numero_linha'\n",
        "  # quebre a linha em palavras com o comando split, note que o separador é um espaço ' '\n",
        "\n",
        "  with open (file='./musica.txt', mode= 'r', encoding='utf8') as musica:\n",
        "\n",
        "        linhas = musica.readlines() \n",
        "        linha_desejada = linhas[numero_linha - 1]\n",
        "        palavras_linha = linha_desejada.split()\n",
        "\n",
        "  return palavras_linha"
      ]
    },
    {
      "cell_type": "markdown",
      "metadata": {
        "id": "Qz2UwipIz0t2"
      },
      "source": [
        "Você pode testar a função com os códigos abaixo."
      ]
    },
    {
      "cell_type": "code",
      "execution_count": 62,
      "metadata": {
        "id": "_Wxp43qqz1V2",
        "colab": {
          "base_uri": "https://localhost:8080/"
        },
        "outputId": "70a7dab0-5db5-440b-9fab-36f0228382ac"
      },
      "outputs": [
        {
          "output_type": "stream",
          "name": "stdout",
          "text": [
            "['Mas', 'eis', 'que', 'chega', 'a', 'roda', 'viva']\n"
          ]
        }
      ],
      "source": [
        "linha10 = extrai_linha_txt(nome_arquivo='./musica.txt', numero_linha=10)\n",
        "\n",
        "print(linha10) # deve retornar ['Mas', 'eis', 'que', 'chega', 'a', 'roda', 'viva']"
      ]
    },
    {
      "cell_type": "markdown",
      "metadata": {
        "id": "Fo9qTjietCH6"
      },
      "source": [
        "---"
      ]
    }
  ],
  "metadata": {
    "colab": {
      "provenance": []
    },
    "kernelspec": {
      "display_name": "Python 3 (ipykernel)",
      "language": "python",
      "name": "python3"
    },
    "language_info": {
      "codemirror_mode": {
        "name": "ipython",
        "version": 3
      },
      "file_extension": ".py",
      "mimetype": "text/x-python",
      "name": "python",
      "nbconvert_exporter": "python",
      "pygments_lexer": "ipython3",
      "version": "3.9.7"
    }
  },
  "nbformat": 4,
  "nbformat_minor": 0
}
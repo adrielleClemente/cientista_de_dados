{
  "cells": [
    {
      "cell_type": "markdown",
      "id": "8e9b8043",
      "metadata": {
        "id": "8e9b8043"
      },
      "source": [
        "# Projeto Análise de Dados\n",
        "\n",
        "Projeto de fim do módulo de análise de dados do curso Cientista de Dados - EBAC"
      ]
    },
    {
      "cell_type": "markdown",
      "id": "0f40d882",
      "metadata": {
        "id": "0f40d882"
      },
      "source": [
        "**Objetivo:** \n",
        "- Entender a relação entre valor de transações e limite de crédito."
      ]
    },
    {
      "cell_type": "markdown",
      "id": "683805ca",
      "metadata": {
        "id": "683805ca"
      },
      "source": [
        "## Importações\n",
        "Importações das bibliotecas e do arquivo a ser analisado."
      ]
    },
    {
      "cell_type": "code",
      "execution_count": 51,
      "id": "b65529dc",
      "metadata": {
        "id": "b65529dc"
      },
      "outputs": [],
      "source": [
        "import pandas as pd\n",
        "import numpy as np\n",
        "import seaborn as sns\n",
        "import matplotlib.pyplot as plt"
      ]
    },
    {
      "cell_type": "code",
      "execution_count": 52,
      "id": "bc49fe82",
      "metadata": {
        "id": "bc49fe82"
      },
      "outputs": [],
      "source": [
        "df = pd.read_csv('dados_credito.csv')"
      ]
    },
    {
      "cell_type": "markdown",
      "id": "d26d6b4a",
      "metadata": {
        "id": "d26d6b4a"
      },
      "source": [
        "## 1. Exploração dos Dados\n",
        "Para verificar se a importação foi bem sucedida, printo as primeiras linhas."
      ]
    },
    {
      "cell_type": "code",
      "execution_count": 53,
      "id": "ec350ffa",
      "metadata": {
        "colab": {
          "base_uri": "https://localhost:8080/",
          "height": 0
        },
        "id": "ec350ffa",
        "outputId": "440fe48a-e037-4c3b-ee4c-82a05e186041"
      },
      "outputs": [
        {
          "data": {
            "text/html": [
              "<div>\n",
              "<style scoped>\n",
              "    .dataframe tbody tr th:only-of-type {\n",
              "        vertical-align: middle;\n",
              "    }\n",
              "\n",
              "    .dataframe tbody tr th {\n",
              "        vertical-align: top;\n",
              "    }\n",
              "\n",
              "    .dataframe thead th {\n",
              "        text-align: right;\n",
              "    }\n",
              "</style>\n",
              "<table border=\"1\" class=\"dataframe\">\n",
              "  <thead>\n",
              "    <tr style=\"text-align: right;\">\n",
              "      <th></th>\n",
              "      <th>id</th>\n",
              "      <th>default</th>\n",
              "      <th>idade</th>\n",
              "      <th>sexo</th>\n",
              "      <th>dependentes</th>\n",
              "      <th>escolaridade</th>\n",
              "      <th>estado_civil</th>\n",
              "      <th>salario_anual</th>\n",
              "      <th>tipo_cartao</th>\n",
              "      <th>meses_de_relacionamento</th>\n",
              "      <th>qtd_produtos</th>\n",
              "      <th>iteracoes_12m</th>\n",
              "      <th>meses_inativo_12m</th>\n",
              "      <th>limite_credito</th>\n",
              "      <th>valor_transacoes_12m</th>\n",
              "      <th>qtd_transacoes_12m</th>\n",
              "    </tr>\n",
              "  </thead>\n",
              "  <tbody>\n",
              "    <tr>\n",
              "      <th>0</th>\n",
              "      <td>768805383</td>\n",
              "      <td>0</td>\n",
              "      <td>45</td>\n",
              "      <td>M</td>\n",
              "      <td>3</td>\n",
              "      <td>ensino medio</td>\n",
              "      <td>casado</td>\n",
              "      <td>$60K - $80K</td>\n",
              "      <td>blue</td>\n",
              "      <td>39</td>\n",
              "      <td>5</td>\n",
              "      <td>3</td>\n",
              "      <td>1</td>\n",
              "      <td>12.691,51</td>\n",
              "      <td>1.144,90</td>\n",
              "      <td>42</td>\n",
              "    </tr>\n",
              "    <tr>\n",
              "      <th>1</th>\n",
              "      <td>818770008</td>\n",
              "      <td>0</td>\n",
              "      <td>49</td>\n",
              "      <td>F</td>\n",
              "      <td>5</td>\n",
              "      <td>mestrado</td>\n",
              "      <td>solteiro</td>\n",
              "      <td>menos que $40K</td>\n",
              "      <td>blue</td>\n",
              "      <td>44</td>\n",
              "      <td>6</td>\n",
              "      <td>2</td>\n",
              "      <td>1</td>\n",
              "      <td>8.256,96</td>\n",
              "      <td>1.291,45</td>\n",
              "      <td>33</td>\n",
              "    </tr>\n",
              "  </tbody>\n",
              "</table>\n",
              "</div>"
            ],
            "text/plain": [
              "          id  default  idade sexo  dependentes  escolaridade estado_civil  \\\n",
              "0  768805383        0     45    M            3  ensino medio       casado   \n",
              "1  818770008        0     49    F            5      mestrado     solteiro   \n",
              "\n",
              "    salario_anual tipo_cartao  meses_de_relacionamento  qtd_produtos  \\\n",
              "0     $60K - $80K        blue                       39             5   \n",
              "1  menos que $40K        blue                       44             6   \n",
              "\n",
              "   iteracoes_12m  meses_inativo_12m limite_credito valor_transacoes_12m  \\\n",
              "0              3                  1      12.691,51             1.144,90   \n",
              "1              2                  1       8.256,96             1.291,45   \n",
              "\n",
              "   qtd_transacoes_12m  \n",
              "0                  42  \n",
              "1                  33  "
            ]
          },
          "execution_count": 53,
          "metadata": {},
          "output_type": "execute_result"
        }
      ],
      "source": [
        "df.head(2)"
      ]
    },
    {
      "cell_type": "markdown",
      "id": "Ps-CPvYIqg1F",
      "metadata": {
        "id": "Ps-CPvYIqg1F"
      },
      "source": [
        "## 1.1. Obtendo informações\n",
        "Para entender melhor os dados, procuro:\n",
        "- Nome de suas colunas;\n",
        "- O volume de dados;\n",
        "- Informação sobre os tipos de dados das colunas;\n",
        "- Procuro saber se há dados ausentes."
      ]
    },
    {
      "cell_type": "code",
      "execution_count": 54,
      "id": "52cdbb76",
      "metadata": {
        "colab": {
          "base_uri": "https://localhost:8080/"
        },
        "id": "52cdbb76",
        "outputId": "4efc11bf-8814-470c-d6f6-0273b4e9bfe0"
      },
      "outputs": [
        {
          "name": "stdout",
          "output_type": "stream",
          "text": [
            "Index(['id', 'default', 'idade', 'sexo', 'dependentes', 'escolaridade',\n",
            "       'estado_civil', 'salario_anual', 'tipo_cartao',\n",
            "       'meses_de_relacionamento', 'qtd_produtos', 'iteracoes_12m',\n",
            "       'meses_inativo_12m', 'limite_credito', 'valor_transacoes_12m',\n",
            "       'qtd_transacoes_12m'],\n",
            "      dtype='object')\n"
          ]
        }
      ],
      "source": [
        "colunas = df.columns\n",
        "print(colunas)"
      ]
    },
    {
      "cell_type": "code",
      "execution_count": 55,
      "id": "e3b50922",
      "metadata": {
        "colab": {
          "base_uri": "https://localhost:8080/"
        },
        "id": "e3b50922",
        "outputId": "6a3e338d-964d-4095-943d-ca38d3cfb7d8",
        "scrolled": true
      },
      "outputs": [
        {
          "name": "stdout",
          "output_type": "stream",
          "text": [
            "(10127, 16)\n"
          ]
        }
      ],
      "source": [
        "#Linhas[0], colunas[1]\n",
        "linhas_col = df.shape\n",
        "print(linhas_col)"
      ]
    },
    {
      "cell_type": "code",
      "execution_count": 56,
      "id": "a8d108aa",
      "metadata": {
        "colab": {
          "base_uri": "https://localhost:8080/"
        },
        "id": "a8d108aa",
        "outputId": "1d4f88a8-86e6-4a3d-9cfe-986ee99dc134",
        "scrolled": true
      },
      "outputs": [
        {
          "name": "stdout",
          "output_type": "stream",
          "text": [
            "<class 'pandas.core.frame.DataFrame'>\n",
            "RangeIndex: 10127 entries, 0 to 10126\n",
            "Data columns (total 16 columns):\n",
            " #   Column                   Non-Null Count  Dtype \n",
            "---  ------                   --------------  ----- \n",
            " 0   id                       10127 non-null  int64 \n",
            " 1   default                  10127 non-null  int64 \n",
            " 2   idade                    10127 non-null  int64 \n",
            " 3   sexo                     10127 non-null  object\n",
            " 4   dependentes              10127 non-null  int64 \n",
            " 5   escolaridade             10127 non-null  object\n",
            " 6   estado_civil             10127 non-null  object\n",
            " 7   salario_anual            10127 non-null  object\n",
            " 8   tipo_cartao              10127 non-null  object\n",
            " 9   meses_de_relacionamento  10127 non-null  int64 \n",
            " 10  qtd_produtos             10127 non-null  int64 \n",
            " 11  iteracoes_12m            10127 non-null  int64 \n",
            " 12  meses_inativo_12m        10127 non-null  int64 \n",
            " 13  limite_credito           10127 non-null  object\n",
            " 14  valor_transacoes_12m     10127 non-null  object\n",
            " 15  qtd_transacoes_12m       10127 non-null  int64 \n",
            "dtypes: int64(9), object(7)\n",
            "memory usage: 1.2+ MB\n"
          ]
        }
      ],
      "source": [
        "df.info()"
      ]
    },
    {
      "cell_type": "code",
      "execution_count": 57,
      "id": "67d76d61",
      "metadata": {
        "colab": {
          "base_uri": "https://localhost:8080/"
        },
        "id": "67d76d61",
        "outputId": "acaf83fb-e7eb-4ce5-a96c-755dc8a75bb0"
      },
      "outputs": [
        {
          "data": {
            "text/plain": [
              "id                         False\n",
              "default                    False\n",
              "idade                      False\n",
              "sexo                       False\n",
              "dependentes                False\n",
              "escolaridade               False\n",
              "estado_civil               False\n",
              "salario_anual              False\n",
              "tipo_cartao                False\n",
              "meses_de_relacionamento    False\n",
              "qtd_produtos               False\n",
              "iteracoes_12m              False\n",
              "meses_inativo_12m          False\n",
              "limite_credito             False\n",
              "valor_transacoes_12m       False\n",
              "qtd_transacoes_12m         False\n",
              "dtype: bool"
            ]
          },
          "execution_count": 57,
          "metadata": {},
          "output_type": "execute_result"
        }
      ],
      "source": [
        "df.isna().any()"
      ]
    },
    {
      "cell_type": "code",
      "execution_count": 58,
      "id": "QHj_SsM1FfCc",
      "metadata": {
        "colab": {
          "base_uri": "https://localhost:8080/"
        },
        "id": "QHj_SsM1FfCc",
        "outputId": "5ced9721-f51e-4039-b9ba-48a162ac5a0a"
      },
      "outputs": [
        {
          "name": "stdout",
          "output_type": "stream",
          "text": [
            "tipo_cartao\n",
            "blue        9436\n",
            "silver       555\n",
            "gold         116\n",
            "platinum      20\n",
            "Name: count, dtype: int64\n"
          ]
        },
        {
          "data": {
            "image/png": "[encoded data removed]",
            "text/plain": [
              "<Figure size 640x480 with 1 Axes>"
            ]
          },
          "metadata": {},
          "output_type": "display_data"
        }
      ],
      "source": [
        "contagem_cartao = df['tipo_cartao'].value_counts()\n",
        "print(contagem_cartao)\n",
        "\n",
        "# Criar um gráfico de barras corrigido\n",
        "sns.barplot(x=contagem_cartao.index, y=contagem_cartao.values, hue=contagem_cartao.index, palette='viridis', dodge=False, legend=False)\n",
        "\n",
        "# Adicionar os valores acima das barras\n",
        "for i, value in enumerate(contagem_cartao.values):\n",
        "    plt.text(i, value + 0.1, str(value), ha='center', va='bottom')\n",
        "\n",
        "plt.title('Contagem de Tipos de Cartão')\n",
        "plt.xlabel('Tipo de Cartão')\n",
        "plt.ylabel('Contagem')\n",
        "plt.show()"
      ]
    },
    {
      "cell_type": "code",
      "execution_count": 59,
      "id": "cEPD93zCtnXU",
      "metadata": {
        "colab": {
          "base_uri": "https://localhost:8080/"
        },
        "id": "cEPD93zCtnXU",
        "outputId": "b3be2673-e813-478f-da05-215a3be94d42"
      },
      "outputs": [
        {
          "name": "stdout",
          "output_type": "stream",
          "text": [
            "escolaridade\n",
            "mestrado               3128\n",
            "ensino medio           2013\n",
            "na                     1519\n",
            "sem educacao formal    1487\n",
            "graduacao              1013\n",
            "doutorado               967\n",
            "Name: count, dtype: int64\n"
          ]
        }
      ],
      "source": [
        "contagem_escolaridade = df['escolaridade'].value_counts()\n",
        "print(contagem_escolaridade)"
      ]
    },
    {
      "cell_type": "markdown",
      "id": "4YmOyHi3s0tN",
      "metadata": {
        "id": "4YmOyHi3s0tN"
      },
      "source": [
        "## 1.2. Valores inconsistentes\n",
        "A exploração busca nas colunas valores inadequados para análise.\n",
        "\n",
        "Como encontrei o valor 'na', procurei saber onde mais havia esse valor."
      ]
    },
    {
      "cell_type": "code",
      "execution_count": 60,
      "id": "ydLoqDEVsBWw",
      "metadata": {
        "colab": {
          "base_uri": "https://localhost:8080/"
        },
        "id": "ydLoqDEVsBWw",
        "outputId": "45d770a4-4d34-4876-ed25-d75846759ef8"
      },
      "outputs": [
        {
          "name": "stdout",
          "output_type": "stream",
          "text": [
            "Foram encontrados 3380 valores 'na' no arquivo CSV.\n"
          ]
        }
      ],
      "source": [
        "contador = 0\n",
        "\n",
        "for coluna in df.columns:\n",
        "    for valor in df[coluna]:\n",
        "        if valor == \"na\":\n",
        "            contador += 1\n",
        "\n",
        "print(f\"Foram encontrados {contador} valores 'na' no arquivo CSV.\")"
      ]
    },
    {
      "cell_type": "code",
      "execution_count": 61,
      "id": "QOgsxFqnvdOE",
      "metadata": {
        "colab": {
          "base_uri": "https://localhost:8080/"
        },
        "id": "QOgsxFqnvdOE",
        "outputId": "2771e69d-5c7e-4a0d-9928-0124ce4cdcb0"
      },
      "outputs": [
        {
          "name": "stdout",
          "output_type": "stream",
          "text": [
            "Foram encontrados 0 valores 'na' na coluna 'id'.\n",
            "__\n",
            "Foram encontrados 0 valores 'na' na coluna 'default'.\n",
            "__\n",
            "Foram encontrados 0 valores 'na' na coluna 'idade'.\n",
            "__\n",
            "Foram encontrados 0 valores 'na' na coluna 'sexo'.\n",
            "__\n",
            "Foram encontrados 0 valores 'na' na coluna 'dependentes'.\n",
            "__\n",
            "Foram encontrados 1519 valores 'na' na coluna 'escolaridade'.\n",
            "__\n",
            "Foram encontrados 749 valores 'na' na coluna 'estado_civil'.\n",
            "__\n",
            "Foram encontrados 1112 valores 'na' na coluna 'salario_anual'.\n",
            "__\n",
            "Foram encontrados 0 valores 'na' na coluna 'tipo_cartao'.\n",
            "__\n",
            "Foram encontrados 0 valores 'na' na coluna 'meses_de_relacionamento'.\n",
            "__\n",
            "Foram encontrados 0 valores 'na' na coluna 'qtd_produtos'.\n",
            "__\n",
            "Foram encontrados 0 valores 'na' na coluna 'iteracoes_12m'.\n",
            "__\n",
            "Foram encontrados 0 valores 'na' na coluna 'meses_inativo_12m'.\n",
            "__\n",
            "Foram encontrados 0 valores 'na' na coluna 'limite_credito'.\n",
            "__\n",
            "Foram encontrados 0 valores 'na' na coluna 'valor_transacoes_12m'.\n",
            "__\n",
            "Foram encontrados 0 valores 'na' na coluna 'qtd_transacoes_12m'.\n",
            "__\n"
          ]
        }
      ],
      "source": [
        "contagem_por_coluna = {}\n",
        "\n",
        "for coluna in df.columns:\n",
        "\n",
        "    contagem = 0\n",
        "    \n",
        "    for valor in df[coluna]:\n",
        "        if valor == \"na\":\n",
        "            contagem += 1\n",
        "               \n",
        "    contagem_por_coluna[coluna] = contagem\n",
        "    \n",
        "\n",
        "for coluna, contagem in contagem_por_coluna.items():\n",
        "    print(f\"Foram encontrados {contagem} valores 'na' na coluna '{coluna}'.\")\n",
        "    print('__')"
      ]
    },
    {
      "cell_type": "markdown",
      "id": "YZsqx2Nm-emb",
      "metadata": {
        "id": "YZsqx2Nm-emb"
      },
      "source": [
        "\n",
        "## 2. Transfomação e Limpeza"
      ]
    },
    {
      "cell_type": "code",
      "execution_count": 62,
      "id": "VOTJ84kaKTYT",
      "metadata": {
        "colab": {
          "base_uri": "https://localhost:8080/"
        },
        "id": "VOTJ84kaKTYT",
        "outputId": "e107c8e6-4be9-4048-c5b8-b2b56497ccbf"
      },
      "outputs": [
        {
          "name": "stdout",
          "output_type": "stream",
          "text": [
            "<class 'pandas.core.series.Series'>\n",
            "RangeIndex: 10127 entries, 0 to 10126\n",
            "Series name: limite_credito\n",
            "Non-Null Count  Dtype \n",
            "--------------  ----- \n",
            "10127 non-null  object\n",
            "dtypes: object(1)\n",
            "memory usage: 79.2+ KB\n"
          ]
        }
      ],
      "source": [
        "df['limite_credito'].info()"
      ]
    },
    {
      "cell_type": "markdown",
      "id": "8cmXIF7IOrBL",
      "metadata": {
        "id": "8cmXIF7IOrBL"
      },
      "source": [
        "## 2.1. Correção do Schema"
      ]
    },
    {
      "cell_type": "code",
      "execution_count": 63,
      "id": "PtwJVXc2LbcI",
      "metadata": {
        "colab": {
          "base_uri": "https://localhost:8080/"
        },
        "id": "PtwJVXc2LbcI",
        "outputId": "b8d87008-4467-4bf2-dd79-972220ac0c14"
      },
      "outputs": [
        {
          "data": {
            "text/plain": [
              "limite_credito          object\n",
              "valor_transacoes_12m    object\n",
              "dtype: object"
            ]
          },
          "execution_count": 63,
          "metadata": {},
          "output_type": "execute_result"
        }
      ],
      "source": [
        "df[['limite_credito', 'valor_transacoes_12m']].dtypes"
      ]
    },
    {
      "cell_type": "code",
      "execution_count": 64,
      "id": "oAFSa06pO621",
      "metadata": {
        "colab": {
          "base_uri": "https://localhost:8080/",
          "height": 206
        },
        "id": "oAFSa06pO621",
        "outputId": "89406a53-8f35-4b9f-eeb6-f1b525f9f766"
      },
      "outputs": [
        {
          "data": {
            "text/html": [
              "<div>\n",
              "<style scoped>\n",
              "    .dataframe tbody tr th:only-of-type {\n",
              "        vertical-align: middle;\n",
              "    }\n",
              "\n",
              "    .dataframe tbody tr th {\n",
              "        vertical-align: top;\n",
              "    }\n",
              "\n",
              "    .dataframe thead th {\n",
              "        text-align: right;\n",
              "    }\n",
              "</style>\n",
              "<table border=\"1\" class=\"dataframe\">\n",
              "  <thead>\n",
              "    <tr style=\"text-align: right;\">\n",
              "      <th></th>\n",
              "      <th>limite_credito</th>\n",
              "      <th>valor_transacoes_12m</th>\n",
              "    </tr>\n",
              "  </thead>\n",
              "  <tbody>\n",
              "    <tr>\n",
              "      <th>0</th>\n",
              "      <td>12.691,51</td>\n",
              "      <td>1.144,90</td>\n",
              "    </tr>\n",
              "    <tr>\n",
              "      <th>1</th>\n",
              "      <td>8.256,96</td>\n",
              "      <td>1.291,45</td>\n",
              "    </tr>\n",
              "    <tr>\n",
              "      <th>2</th>\n",
              "      <td>3.418,56</td>\n",
              "      <td>1.887,72</td>\n",
              "    </tr>\n",
              "    <tr>\n",
              "      <th>3</th>\n",
              "      <td>3.313,03</td>\n",
              "      <td>1.171,56</td>\n",
              "    </tr>\n",
              "    <tr>\n",
              "      <th>4</th>\n",
              "      <td>4.716,22</td>\n",
              "      <td>816,08</td>\n",
              "    </tr>\n",
              "  </tbody>\n",
              "</table>\n",
              "</div>"
            ],
            "text/plain": [
              "  limite_credito valor_transacoes_12m\n",
              "0      12.691,51             1.144,90\n",
              "1       8.256,96             1.291,45\n",
              "2       3.418,56             1.887,72\n",
              "3       3.313,03             1.171,56\n",
              "4       4.716,22               816,08"
            ]
          },
          "execution_count": 64,
          "metadata": {},
          "output_type": "execute_result"
        }
      ],
      "source": [
        "df[['limite_credito', 'valor_transacoes_12m']].head(5)"
      ]
    },
    {
      "cell_type": "markdown",
      "id": "CAV1EjSIb_5r",
      "metadata": {
        "id": "CAV1EjSIb_5r"
      },
      "source": [
        "- Convertendo colunas tipo **object** para **float**."
      ]
    },
    {
      "cell_type": "code",
      "execution_count": 65,
      "id": "plAbJZ3ZPCni",
      "metadata": {
        "id": "plAbJZ3ZPCni"
      },
      "outputs": [],
      "source": [
        "fn = lambda valor: float(valor.replace(\".\", \"\").replace(\",\", \".\"))\n"
      ]
    },
    {
      "cell_type": "code",
      "execution_count": 66,
      "id": "0ypzjqVQQCXl",
      "metadata": {
        "id": "0ypzjqVQQCXl"
      },
      "outputs": [],
      "source": [
        "df['valor_transacoes_12m'] = df['valor_transacoes_12m'].apply(fn)\n",
        "df['limite_credito'] = df['limite_credito'].apply(fn)"
      ]
    },
    {
      "cell_type": "code",
      "execution_count": 67,
      "id": "dS56vNpYQHIC",
      "metadata": {
        "colab": {
          "base_uri": "https://localhost:8080/"
        },
        "id": "dS56vNpYQHIC",
        "outputId": "0b738bb5-f5e0-46f9-bd07-778639176f80"
      },
      "outputs": [
        {
          "data": {
            "text/plain": [
              "limite_credito          float64\n",
              "valor_transacoes_12m    float64\n",
              "dtype: object"
            ]
          },
          "execution_count": 67,
          "metadata": {},
          "output_type": "execute_result"
        }
      ],
      "source": [
        "df[['limite_credito', 'valor_transacoes_12m']].dtypes"
      ]
    },
    {
      "cell_type": "code",
      "execution_count": 68,
      "id": "5OXa9X9Bainr",
      "metadata": {
        "colab": {
          "base_uri": "https://localhost:8080/",
          "height": 206
        },
        "id": "5OXa9X9Bainr",
        "outputId": "7831cef8-07ba-493c-bb0d-67f6d455034c"
      },
      "outputs": [
        {
          "data": {
            "text/html": [
              "<div>\n",
              "<style scoped>\n",
              "    .dataframe tbody tr th:only-of-type {\n",
              "        vertical-align: middle;\n",
              "    }\n",
              "\n",
              "    .dataframe tbody tr th {\n",
              "        vertical-align: top;\n",
              "    }\n",
              "\n",
              "    .dataframe thead th {\n",
              "        text-align: right;\n",
              "    }\n",
              "</style>\n",
              "<table border=\"1\" class=\"dataframe\">\n",
              "  <thead>\n",
              "    <tr style=\"text-align: right;\">\n",
              "      <th></th>\n",
              "      <th>count</th>\n",
              "      <th>unique</th>\n",
              "      <th>top</th>\n",
              "      <th>freq</th>\n",
              "    </tr>\n",
              "  </thead>\n",
              "  <tbody>\n",
              "    <tr>\n",
              "      <th>sexo</th>\n",
              "      <td>10127</td>\n",
              "      <td>2</td>\n",
              "      <td>F</td>\n",
              "      <td>5358</td>\n",
              "    </tr>\n",
              "    <tr>\n",
              "      <th>escolaridade</th>\n",
              "      <td>10127</td>\n",
              "      <td>6</td>\n",
              "      <td>mestrado</td>\n",
              "      <td>3128</td>\n",
              "    </tr>\n",
              "    <tr>\n",
              "      <th>estado_civil</th>\n",
              "      <td>10127</td>\n",
              "      <td>4</td>\n",
              "      <td>casado</td>\n",
              "      <td>4687</td>\n",
              "    </tr>\n",
              "    <tr>\n",
              "      <th>salario_anual</th>\n",
              "      <td>10127</td>\n",
              "      <td>6</td>\n",
              "      <td>menos que $40K</td>\n",
              "      <td>3561</td>\n",
              "    </tr>\n",
              "    <tr>\n",
              "      <th>tipo_cartao</th>\n",
              "      <td>10127</td>\n",
              "      <td>4</td>\n",
              "      <td>blue</td>\n",
              "      <td>9436</td>\n",
              "    </tr>\n",
              "  </tbody>\n",
              "</table>\n",
              "</div>"
            ],
            "text/plain": [
              "               count unique             top  freq\n",
              "sexo           10127      2               F  5358\n",
              "escolaridade   10127      6        mestrado  3128\n",
              "estado_civil   10127      4          casado  4687\n",
              "salario_anual  10127      6  menos que $40K  3561\n",
              "tipo_cartao    10127      4            blue  9436"
            ]
          },
          "execution_count": 68,
          "metadata": {},
          "output_type": "execute_result"
        }
      ],
      "source": [
        "df.select_dtypes('object').describe().transpose()"
      ]
    },
    {
      "cell_type": "markdown",
      "id": "XP8yURgWceGu",
      "metadata": {
        "id": "XP8yURgWceGu"
      },
      "source": [
        "## 2.2. Remoção dos dados inconsistentes"
      ]
    },
    {
      "cell_type": "code",
      "execution_count": 69,
      "id": "yS0EdMD5cOet",
      "metadata": {
        "id": "yS0EdMD5cOet"
      },
      "outputs": [],
      "source": [
        "df.dropna(inplace=True)"
      ]
    },
    {
      "cell_type": "code",
      "execution_count": 70,
      "id": "0a4ZjgZbc16v",
      "metadata": {
        "colab": {
          "base_uri": "https://localhost:8080/"
        },
        "id": "0a4ZjgZbc16v",
        "outputId": "7baa7949-a0aa-44e0-cb2f-0ac44664a6ba"
      },
      "outputs": [
        {
          "data": {
            "text/plain": [
              "(10127, 16)"
            ]
          },
          "execution_count": 70,
          "metadata": {},
          "output_type": "execute_result"
        }
      ],
      "source": [
        "df.shape"
      ]
    },
    {
      "cell_type": "code",
      "execution_count": 71,
      "id": "ffSMXgYbc-Gj",
      "metadata": {
        "colab": {
          "base_uri": "https://localhost:8080/"
        },
        "id": "ffSMXgYbc-Gj",
        "outputId": "e58d2800-a857-4749-be2e-c151e86b3ec4"
      },
      "outputs": [
        {
          "data": {
            "text/plain": [
              "(8500, 16)"
            ]
          },
          "execution_count": 71,
          "metadata": {},
          "output_type": "execute_result"
        }
      ],
      "source": [
        "df[df['default'] == 0].shape"
      ]
    },
    {
      "cell_type": "code",
      "execution_count": 72,
      "id": "aIGJgmBSdB5N",
      "metadata": {
        "colab": {
          "base_uri": "https://localhost:8080/"
        },
        "id": "aIGJgmBSdB5N",
        "outputId": "fb0a6089-0f3b-4a3e-aa71-afa769b75f02"
      },
      "outputs": [
        {
          "data": {
            "text/plain": [
              "(1627, 16)"
            ]
          },
          "execution_count": 72,
          "metadata": {},
          "output_type": "execute_result"
        }
      ],
      "source": [
        "df[df['default'] == 1].shape"
      ]
    },
    {
      "cell_type": "markdown",
      "id": "f73e2f90",
      "metadata": {
        "id": "f73e2f90"
      },
      "source": [
        "## 3. Visualização dos Dados"
      ]
    },
    {
      "cell_type": "code",
      "execution_count": 73,
      "id": "Yete3Ut_HHEE",
      "metadata": {
        "colab": {
          "base_uri": "https://localhost:8080/"
        },
        "id": "Yete3Ut_HHEE",
        "outputId": "1fe59b05-9e34-4765-8e86-f53fffd26e95"
      },
      "outputs": [
        {
          "name": "stdout",
          "output_type": "stream",
          "text": [
            "       limite_credito  valor_transacoes_12m\n",
            "count    10127.000000          10127.000000\n",
            "mean      8632.440165           4404.583047\n",
            "std       9088.788041           3397.128078\n",
            "min       1438.000000            510.160000\n",
            "25%       2555.355000           2155.825000\n",
            "50%       4549.420000           3899.590000\n",
            "75%      11068.175000           4741.310000\n",
            "max      34516.990000          18484.930000\n"
          ]
        }
      ],
      "source": [
        "dados_colunas = df[['limite_credito','valor_transacoes_12m']].describe()\n",
        "print(dados_colunas)"
      ]
    },
    {
      "cell_type": "markdown",
      "id": "JKhrJSsNgeQR",
      "metadata": {
        "id": "JKhrJSsNgeQR"
      },
      "source": [
        "- A função abaixo apresenta o menor e maior valor de **limite de crédito** e **valor de transações**. "
      ]
    },
    {
      "cell_type": "code",
      "execution_count": 74,
      "id": "aozeyeEpfIxB",
      "metadata": {
        "colab": {
          "base_uri": "https://localhost:8080/"
        },
        "id": "aozeyeEpfIxB",
        "outputId": "4380956c-ff60-43de-f97e-411ee4fd0aeb"
      },
      "outputs": [
        {
          "data": {
            "image/png": "[encoded data removed]",
            "text/plain": [
              "<Figure size 640x480 with 1 Axes>"
            ]
          },
          "metadata": {},
          "output_type": "display_data"
        }
      ],
      "source": [
        "def min_max_coluna(df, coluna): # Função para calcular o mínimo e máximo\n",
        "\n",
        "    menor_valor = df[coluna].min()\n",
        "    maior_valor = df[coluna].max()\n",
        "    \n",
        "    return (menor_valor, maior_valor)\n",
        "\n",
        "# Obter valores mínimos e máximos\n",
        "colunas = ['limite_credito', 'valor_transacoes_12m']\n",
        "valores_min_max = {coluna: min_max_coluna(df, coluna) for coluna in colunas}\n",
        "\n",
        "# Preparar os dados para o gráfico\n",
        "labels = valores_min_max.keys()\n",
        "min_values = [valores[0] for valores in valores_min_max.values()]\n",
        "max_values = [valores[1] for valores in valores_min_max.values()]\n",
        "\n",
        "# Criar o gráfico de barras comparativo\n",
        "x = range(len(labels))\n",
        "width = 0.4\n",
        "\n",
        "plt.bar(x, min_values, width=width, label='Mínimo', color='blue', align='center')\n",
        "plt.bar([i + width for i in x], max_values, width=width, label='Máximo', color='green', align='center')\n",
        "\n",
        "# Adicionar rótulos e título\n",
        "plt.xlabel('Colunas')\n",
        "plt.ylabel('Valores')\n",
        "plt.title('Comparação de Valores Mínimos e Máximos')\n",
        "plt.xticks([i + width / 2 for i in x], labels)\n",
        "plt.legend()\n",
        "plt.tight_layout()\n",
        "plt.show()"
      ]
    },
    {
      "cell_type": "code",
      "execution_count": 75,
      "id": "2b7a135a",
      "metadata": {},
      "outputs": [
        {
          "name": "stdout",
          "output_type": "stream",
          "text": [
            "Os valores mínimo e máximo na coluna 'limite_credito' são: (1438.0, 34516.99)\n",
            "Os valores mínimo e máximo na coluna 'valor_transacoes_12m' são: (510.16, 18484.93)\n"
          ]
        }
      ],
      "source": [
        "# Valores descritivos\n",
        "for coluna in colunas:\n",
        "    valores = min_max_coluna(df, coluna)\n",
        "    print(f\"Os valores mínimo e máximo na coluna '{coluna}' são:\", valores)"
      ]
    },
    {
      "cell_type": "markdown",
      "id": "LDXOQCEQg_q0",
      "metadata": {
        "id": "LDXOQCEQg_q0"
      },
      "source": [
        "## 3.1. Comparação de Colunas\n",
        "O objetivo é expor a soma do valor de transações para cada tipo de cartão, e por fim a média de limite de crédito de cada tipo de cartão."
      ]
    },
    {
      "cell_type": "code",
      "execution_count": 76,
      "id": "9JK0xSk-hDBA",
      "metadata": {
        "colab": {
          "base_uri": "https://localhost:8080/"
        },
        "id": "9JK0xSk-hDBA",
        "outputId": "670054c9-a319-4932-a122-314c440ef0d9"
      },
      "outputs": [
        {
          "name": "stdout",
          "output_type": "stream",
          "text": [
            "tipo_cartao\n",
            "blue        9436\n",
            "silver       555\n",
            "gold         116\n",
            "platinum      20\n",
            "Name: count, dtype: int64\n"
          ]
        }
      ],
      "source": [
        "print(contagem_cartao)"
      ]
    },
    {
      "cell_type": "code",
      "execution_count": 77,
      "id": "boBpFI9N4lZL",
      "metadata": {
        "colab": {
          "base_uri": "https://localhost:8080/"
        },
        "id": "boBpFI9N4lZL",
        "outputId": "3d45db4a-d755-4291-aa09-884507a10b33"
      },
      "outputs": [
        {
          "name": "stdout",
          "output_type": "stream",
          "text": [
            "tipo_cartao\n",
            "blue        39875634.84\n",
            "gold          891587.61\n",
            "platinum      180004.60\n",
            "silver       3657985.47\n",
            "Name: valor_transacoes_12m, dtype: float64\n"
          ]
        }
      ],
      "source": [
        "somas_cartao = df.groupby('tipo_cartao')['valor_transacoes_12m'].sum()\n",
        "\n",
        "print(somas_cartao)"
      ]
    },
    {
      "cell_type": "code",
      "execution_count": 78,
      "id": "bbJdAx1N5C5Z",
      "metadata": {
        "colab": {
          "base_uri": "https://localhost:8080/",
          "height": 428
        },
        "id": "bbJdAx1N5C5Z",
        "outputId": "c16251a5-8cb4-4b5b-b6e5-71bc75a89143"
      },
      "outputs": [
        {
          "data": {
            "image/png": "[encoded data removed]",
            "text/plain": [
              "<Figure size 640x480 with 1 Axes>"
            ]
          },
          "metadata": {},
          "output_type": "display_data"
        }
      ],
      "source": [
        "# Dados fornecidos\n",
        "somas_cartao = {'blue': 39875634.84, \n",
        "                'gold': 891587.61,\n",
        "                'platinum': 180004.60,\n",
        "                'silver': 3657985.47}\n",
        "\n",
        "# Cores para as barras\n",
        "cores = ['blue', 'gold', 'black', 'silver']\n",
        "\n",
        "# Criar o gráfico de barras\n",
        "plt.bar(somas_cartao.keys(), somas_cartao.values(), color=cores)\n",
        "\n",
        "# Adicionar os valores acima das barras\n",
        "for i, value in enumerate(somas_cartao.values()):\n",
        "    plt.text(i, value + (value * 0.02), f'{value:,.2f}', ha='center', va='bottom')\n",
        "\n",
        "# Títulos e rótulos\n",
        "plt.title('Soma dos Valores de Transações por Tipo de Cartão')\n",
        "plt.xlabel('Tipo de Cartão')\n",
        "plt.ylabel('Valor Total das Transações (12m)')\n",
        "plt.xticks(rotation=45)  # Rotacionar os rótulos do eixo X para melhor visualização\n",
        "plt.tight_layout()  # Ajustar layout para evitar cortes\n",
        "\n",
        "# Exibir o gráfico\n",
        "plt.show()\n"
      ]
    },
    {
      "cell_type": "markdown",
      "id": "zV72bb9zB4dB",
      "metadata": {
        "id": "zV72bb9zB4dB"
      },
      "source": [
        "## 3.2. Média de Limite de Crédito"
      ]
    },
    {
      "cell_type": "code",
      "execution_count": 79,
      "id": "ee2b9dee",
      "metadata": {},
      "outputs": [
        {
          "data": {
            "image/png": "[encoded data removed]",
            "text/plain": [
              "<Figure size 640x480 with 1 Axes>"
            ]
          },
          "metadata": {},
          "output_type": "display_data"
        }
      ],
      "source": [
        "# Calcular a média do limite de crédito para cada tipo de cartão\n",
        "average_limits = df.groupby('tipo_cartao')['limite_credito'].mean()\n",
        "\n",
        "# Criar o gráfico de barras\n",
        "plt.bar(average_limits.index, average_limits.values, color='skyblue')\n",
        "\n",
        "# Adicionar os valores acima das barras\n",
        "for i, value in enumerate(average_limits.values):\n",
        "    plt.text(i, value + 100, f'{value:.2f}', ha='center', va='bottom')\n",
        "\n",
        "plt.title('Média dos Valores de Limite por Tipo de Cartão')\n",
        "plt.xlabel('Tipo de Cartão')\n",
        "plt.ylabel('Média do Limite de Crédito')\n",
        "plt.tight_layout()\n",
        "plt.show()"
      ]
    },
    {
      "cell_type": "markdown",
      "id": "244i-_-q-W0E",
      "metadata": {
        "id": "244i-_-q-W0E"
      },
      "source": [
        "## 4.Conclusão\n",
        "A soma do valor de transação do cartão tipo **'blue'** é consideravelmente grande. Mesmo assim, no aspecto geral, é o que contém a menor média de limite de crédito.\n",
        "\n",
        "O cartão **platinum** destaca-se com o maior limite de crédito, porém com a menor taxa de aquisição, apenas 20 clientes.\n",
        "\n"
      ]
    }
  ],
  "metadata": {
    "colab": {
      "provenance": []
    },
    "kernelspec": {
      "display_name": "base",
      "language": "python",
      "name": "python3"
    },
    "language_info": {
      "codemirror_mode": {
        "name": "ipython",
        "version": 3
      },
      "file_extension": ".py",
      "mimetype": "text/x-python",
      "name": "python",
      "nbconvert_exporter": "python",
      "pygments_lexer": "ipython3",
      "version": "3.12.7"
    }
  },
  "nbformat": 4,
  "nbformat_minor": 5
}

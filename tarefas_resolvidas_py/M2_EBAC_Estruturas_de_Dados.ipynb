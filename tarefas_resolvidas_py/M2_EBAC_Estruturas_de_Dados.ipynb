{
  "nbformat": 4,
  "nbformat_minor": 0,
  "metadata": {
    "colab": {
      "provenance": []
    },
    "kernelspec": {
      "name": "python3",
      "display_name": "Python 3"
    }
  },
  "cells": [
    {
      "cell_type": "markdown",
      "metadata": {
        "id": "KJqp9AANOCtf"
      },
      "source": [
        "<img src=\"https://raw.githubusercontent.com/andre-marcos-perez/ebac-course-utils/main/media/logo/newebac_logo_black_half.png\" alt=\"ebac-logo\">\n",
        "\n",
        "---\n",
        "\n",
        "# **Módulo 02** | Python: Estruturas de Dados\n",
        "Caderno de **Exercícios**<br> \n",
        "Professor [André Perez](https://www.linkedin.com/in/andremarcosperez/)\n",
        "\n",
        "---"
      ]
    },
    {
      "cell_type": "markdown",
      "metadata": {
        "id": "d9jDtUbDOE1-"
      },
      "source": [
        "# **Tópicos**\n",
        "\n",
        "<ol type=\"1\">\n",
        "  <li>Listas;</li>\n",
        "  <li>Conjuntos;</li>\n",
        "  <li>Dicionários.</li>\n",
        "</ol>"
      ]
    },
    {
      "cell_type": "markdown",
      "metadata": {
        "id": "SmoHgt-lwkpD"
      },
      "source": [
        "---"
      ]
    },
    {
      "cell_type": "markdown",
      "metadata": {
        "id": "GABI6OW8OfQ2"
      },
      "source": [
        "# **Exercícios**"
      ]
    },
    {
      "cell_type": "markdown",
      "metadata": {
        "id": "muD1vxozykSC"
      },
      "source": [
        "## 1\\. Listas"
      ]
    },
    {
      "cell_type": "markdown",
      "metadata": {
        "id": "ahrFfCuBxJKs"
      },
      "source": [
        "Criei uma lista chamada `filmes` com o nome dos 10 primeiros filmes mais bem avaliados no site no [IMDB](https://www.imdb.com/chart/top/). Imprima o resultado."
      ]
    },
    {
      "cell_type": "code",
      "metadata": {
        "id": "OgL6Hv3bzOHI",
        "colab": {
          "base_uri": "https://localhost:8080/"
        },
        "outputId": "0b9115e9-e6fe-4137-b8a0-a0ce51f1c410"
      },
      "source": [
        "top_ten_movies = [' Um Sonho de Liberdade','O Poderoso Chefão',\n",
        "                  ' Batman: O Cavaleiro das Trevas', 'O Poderoso Chefão II',\n",
        "                  ' 12 Homens e uma Sentença',' A Lista de Schindler',\n",
        "                  'O Senhor dos Anéis: O Retorno do Rei','Pulp Fiction: Tempo de Violência',\n",
        "                  ' O Senhor dos Anéis: A Sociedade do Anel', 'Três Homens em Conflito']\n",
        "print(top_ten_movies)"
      ],
      "execution_count": 74,
      "outputs": [
        {
          "output_type": "stream",
          "name": "stdout",
          "text": [
            "[' Um Sonho de Liberdade', 'O Poderoso Chefão', ' Batman: O Cavaleiro das Trevas', 'O Poderoso Chefão II', ' 12 Homens e uma Sentença', ' A Lista de Schindler', 'O Senhor dos Anéis: O Retorno do Rei', 'Pulp Fiction: Tempo de Violência', ' O Senhor dos Anéis: A Sociedade do Anel', 'Três Homens em Conflito']\n"
          ]
        }
      ]
    },
    {
      "cell_type": "markdown",
      "metadata": {
        "id": "KI9zQRT2xa7m"
      },
      "source": [
        "Simule a movimentação do *ranking*. Utilize os métodos `insert` e `pop` para trocar a posição do primeiro e do segundo filme da lista. Imprima o resultado.\n",
        "\n"
      ]
    },
    {
      "cell_type": "code",
      "metadata": {
        "id": "zX3mA3_GzrXH",
        "colab": {
          "base_uri": "https://localhost:8080/"
        },
        "outputId": "7fa63718-1f8d-4a78-fe08-99812c96596d"
      },
      "source": [
        "top_ten_movies.insert(0,'O Poderoso Chefão')\n",
        "print(top_ten_movies)\n",
        "indice = top_ten_movies.pop(2)\n",
        "print(top_ten_movies)\n"
      ],
      "execution_count": 75,
      "outputs": [
        {
          "output_type": "stream",
          "name": "stdout",
          "text": [
            "['O Poderoso Chefão', ' Um Sonho de Liberdade', 'O Poderoso Chefão', ' Batman: O Cavaleiro das Trevas', 'O Poderoso Chefão II', ' 12 Homens e uma Sentença', ' A Lista de Schindler', 'O Senhor dos Anéis: O Retorno do Rei', 'Pulp Fiction: Tempo de Violência', ' O Senhor dos Anéis: A Sociedade do Anel', 'Três Homens em Conflito']\n",
            "['O Poderoso Chefão', ' Um Sonho de Liberdade', ' Batman: O Cavaleiro das Trevas', 'O Poderoso Chefão II', ' 12 Homens e uma Sentença', ' A Lista de Schindler', 'O Senhor dos Anéis: O Retorno do Rei', 'Pulp Fiction: Tempo de Violência', ' O Senhor dos Anéis: A Sociedade do Anel', 'Três Homens em Conflito']\n"
          ]
        }
      ]
    },
    {
      "cell_type": "markdown",
      "metadata": {
        "id": "zMN1Q3jdwoJm"
      },
      "source": [
        "---"
      ]
    },
    {
      "cell_type": "markdown",
      "metadata": {
        "id": "lxa5L6uF0ZJE"
      },
      "source": [
        "## 2\\. Conjuntos"
      ]
    },
    {
      "cell_type": "markdown",
      "metadata": {
        "id": "9JahS2Kj0d5u"
      },
      "source": [
        "Aconteceu um erro no seu *ranking*. Simule a duplicação dos três últimos filmes da lista. Imprima o resultado."
      ]
    },
    {
      "cell_type": "code",
      "metadata": {
        "id": "BnjnLBNC6PGe",
        "colab": {
          "base_uri": "https://localhost:8080/"
        },
        "outputId": "a33a38b8-12b9-4d05-c05f-80e5ec92176e"
      },
      "source": [
        "top_ten_movies.insert(-3, 'Pulp Fiction: Tempo de Violência')\n",
        "top_ten_movies.insert(-2, ' O Senhor dos Anéis: A Sociedade do Anel')\n",
        "top_ten_movies.insert(-1, ' Três Homens em Conflito')\n",
        "print(top_ten_movies)"
      ],
      "execution_count": 76,
      "outputs": [
        {
          "output_type": "stream",
          "name": "stdout",
          "text": [
            "['O Poderoso Chefão', ' Um Sonho de Liberdade', ' Batman: O Cavaleiro das Trevas', 'O Poderoso Chefão II', ' 12 Homens e uma Sentença', ' A Lista de Schindler', 'O Senhor dos Anéis: O Retorno do Rei', 'Pulp Fiction: Tempo de Violência', 'Pulp Fiction: Tempo de Violência', ' O Senhor dos Anéis: A Sociedade do Anel', ' O Senhor dos Anéis: A Sociedade do Anel', ' Três Homens em Conflito', 'Três Homens em Conflito']\n"
          ]
        }
      ]
    },
    {
      "cell_type": "markdown",
      "metadata": {
        "id": "suxTfCJB6ZiX"
      },
      "source": [
        "Utiliza a conversão `set` e `list` para remover os valores duplicados. Imprima o resultado. "
      ]
    },
    {
      "cell_type": "code",
      "metadata": {
        "id": "ZvUGN-0n6joM",
        "colab": {
          "base_uri": "https://localhost:8080/"
        },
        "outputId": "5572c82d-0552-4677-912c-30f9ba80f450"
      },
      "source": [
        "nova_lista = list(set(top_ten_movies))\n",
        "print(nova_lista)"
      ],
      "execution_count": 77,
      "outputs": [
        {
          "output_type": "stream",
          "name": "stdout",
          "text": [
            "['Três Homens em Conflito', ' O Senhor dos Anéis: A Sociedade do Anel', 'O Poderoso Chefão', ' 12 Homens e uma Sentença', ' Batman: O Cavaleiro das Trevas', ' Um Sonho de Liberdade', 'O Senhor dos Anéis: O Retorno do Rei', ' Três Homens em Conflito', ' A Lista de Schindler', 'Pulp Fiction: Tempo de Violência', 'O Poderoso Chefão II']\n"
          ]
        }
      ]
    },
    {
      "cell_type": "markdown",
      "metadata": {
        "id": "ShkK35eQ6pAM"
      },
      "source": [
        "---"
      ]
    },
    {
      "cell_type": "markdown",
      "metadata": {
        "id": "EL_FzmxL6rTv"
      },
      "source": [
        "## 3\\. Dicionários"
      ]
    },
    {
      "cell_type": "markdown",
      "metadata": {
        "id": "i8l0gFqRCpfT"
      },
      "source": [
        "Repita os exercícios da parte 1 (listas). Os elementos da lista `filmes` devem ser dicionários no seguinte formato: `{'nome': <nome-do-filme>, 'ano': <ano do filme>}, 'sinopse': <sinopse do filme>}`. "
      ]
    },
    {
      "cell_type": "code",
      "source": [
        "filmes = { \"1\": {\n",
        "    'nome': 'Um Sonho de Liberdade',\n",
        "    'ano': 1994,\n",
        "    'sinopse': 'Dois homens presos se reúnem ao longo de vários anos, encontrando consolo e eventual redenção através de atos de decência comum.'\n",
        "},\n",
        "'2': {\n",
        "    'nome': 'O Poderoso Chefão',\n",
        "    'ano': 1972,\n",
        "    'sinopse': 'O patriarca idoso de uma dinastia do crime organizado transfere o controle de seu império clandestino para seu filho relutante.'\n",
        "},\n",
        "'3': {\n",
        "    'nome':' Batman: O Cavaleiro das Trevas',\n",
        "    'ano': 2008,\n",
        "    'sinopse': 'Quando a ameaça conhecida como O Coringa surge de seu passado, causa estragos e caos nas pessoas de Gotham. O Cavaleiro das Trevas deve aceitar um dos maiores testes para combater a injustiça.'\n",
        "},\n",
        "'4': {\n",
        "    'nome': 'O Poderoso Chefão II',\n",
        "    'ano': 1974,\n",
        "    'sinopse': 'Em 1950, Michael Corleone, agora à frente da família, tenta expandir o negócio do crime a Las Vegas, Los Angeles e Cuba. Paralelamente, é revelada a história de Vito Corleone, e de como saiu da Sicília e chegou a Nova Iorque.'\n",
        "},\n",
        "'5': {\n",
        "    'nome': '12 Homens e uma Sentença',\n",
        "    'ano': 1957,\n",
        "    'sinopse': 'Um jurado que se aposenta tenta evitar um erro judicial forçando seus colegas a reconsiderarem as evidências.'\n",
        "},\n",
        "'6':{\n",
        "    'nome': 'A Lista de Schindler',\n",
        "    'ano': 1993,\n",
        "    'sinopse': 'Depois de testemunhar a perseguição dos judaicos na Polônia ocupada pelos alemães durante a Segunda Guerra Mundial, o industrial Oskar Schindler se começa a preocupar com sua força de trabalho judaica.'\n",
        "},\n",
        "'7':{\n",
        "    'nome': ' O Senhor dos Anéis: O Retorno do Rei',\n",
        "    'ano': 2003,\n",
        "    'sinopse': 'Gandalf e Aragorn lideram o Mundo dos Homens contra o exército de Sauron para desviar o olhar de Frodo e Sam quando eles se aproximam á Montanha da Perdição com o Um Anel.'\n",
        "},\n",
        "'8':{\n",
        "    'nome': ' Pulp Fiction: Tempo de Violência',\n",
        "    'ano': 1998,\n",
        "    'sinopse': 'As vidas de dois assassinos da máfia, um boxeador, um gângster e sua esposa, e um par de bandidos se entrelaçam em quatro histórias de violência e redenção.'\n",
        "},\n",
        "'9':{\n",
        "    'nome': 'O Senhor dos Anéis: A Sociedade do Anel',\n",
        "    'ano': 2001,\n",
        "    'sinopse': 'Um manso hobbit do Condado e oito companheiros partem em uma jornada para destruir o poderoso Um Anel e salvar a Terra-média das Trevas.'    \n",
        "},\n",
        "'10':{\n",
        "    'nome': 'Três Homens em Conflito',\n",
        "    'ano': 1966,\n",
        "    'sinopse': 'Um impostor se junta com dois homens para encontrar fortuna num remoto cemitério.'\n",
        "}\n",
        "      \n",
        "}"
      ],
      "metadata": {
        "id": "UbHUtobI-9vI"
      },
      "execution_count": 80,
      "outputs": []
    },
    {
      "cell_type": "code",
      "source": [
        "print(filmes)"
      ],
      "metadata": {
        "colab": {
          "base_uri": "https://localhost:8080/"
        },
        "id": "MGM50mXGIReb",
        "outputId": "91902e24-d223-4525-f4c6-e175341adf39"
      },
      "execution_count": 81,
      "outputs": [
        {
          "output_type": "stream",
          "name": "stdout",
          "text": [
            "{'1': {'nome': 'Um Sonho de Liberdade', 'ano': 1994, 'sinopse': 'Dois homens presos se reúnem ao longo de vários anos, encontrando consolo e eventual redenção através de atos de decência comum.'}, '2': {'nome': 'O Poderoso Chefão', 'ano': 1972, 'sinopse': 'O patriarca idoso de uma dinastia do crime organizado transfere o controle de seu império clandestino para seu filho relutante.'}, '3': {'nome': ' Batman: O Cavaleiro das Trevas', 'ano': 2008, 'sinopse': 'Quando a ameaça conhecida como O Coringa surge de seu passado, causa estragos e caos nas pessoas de Gotham. O Cavaleiro das Trevas deve aceitar um dos maiores testes para combater a injustiça.'}, '4': {'nome': 'O\\xa0Poderoso\\xa0Chefão\\xa0II', 'ano': 1974, 'sinopse': 'Em 1950, Michael Corleone, agora à frente da família, tenta expandir o negócio do crime a Las Vegas, Los Angeles e Cuba. Paralelamente, é revelada a história de Vito Corleone, e de como saiu da Sicília e chegou a Nova Iorque.'}, '5': {'nome': '12 Homens e uma Sentença', 'ano': 1957, 'sinopse': 'Um jurado que se aposenta tenta evitar um erro judicial forçando seus colegas a reconsiderarem as evidências.'}, '6': {'nome': 'A Lista de Schindler', 'ano': 1993, 'sinopse': 'Depois de testemunhar a perseguição dos judaicos na Polônia ocupada pelos alemães durante a Segunda Guerra Mundial, o industrial Oskar Schindler se começa a preocupar com sua força de trabalho judaica.'}, '7': {'nome': ' O Senhor dos Anéis: O Retorno do Rei', 'ano': 2003, 'sinopse': 'Gandalf e Aragorn lideram o Mundo dos Homens contra o exército de Sauron para desviar o olhar de Frodo e Sam quando eles se aproximam á Montanha da Perdição com o Um Anel.'}, '8': {'nome': ' Pulp Fiction: Tempo de Violência', 'ano': 1998, 'sinopse': 'As vidas de dois assassinos da máfia, um boxeador, um gângster e sua esposa, e um par de bandidos se entrelaçam em quatro histórias de violência e redenção.'}, '9': {'nome': 'O Senhor dos Anéis: A Sociedade do Anel', 'ano': 2001, 'sinopse': 'Um manso hobbit do Condado e oito companheiros partem em uma jornada para destruir o poderoso Um Anel e salvar a Terra-média das Trevas.'}, '10': {'nome': 'Três Homens em Conflito', 'ano': 1966, 'sinopse': 'Um impostor se junta com dois homens para encontrar fortuna num remoto cemitério.'}}\n"
          ]
        }
      ]
    },
    {
      "cell_type": "code",
      "source": [],
      "metadata": {
        "id": "ET9FVZ83KAvF"
      },
      "execution_count": null,
      "outputs": []
    }
  ]
}
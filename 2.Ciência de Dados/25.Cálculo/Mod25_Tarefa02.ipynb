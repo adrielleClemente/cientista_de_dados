{
 "cells": [
  {
   "cell_type": "markdown",
   "metadata": {},
   "source": [
    "# Cálculo - Tarefa 02\n",
    "\n",
    "1- Calcule de forma numérica a integral da função $x^3$ avaliada entre os pontos $1$ e $2$. Identifique o número de retângulos que você usou.  \n",
    "2- Calcule essa área de forma analítica."
   ]
  },
  {
   "cell_type": "code",
   "execution_count": 11,
   "metadata": {},
   "outputs": [],
   "source": [
    "import numpy as np"
   ]
  },
  {
   "cell_type": "code",
   "execution_count": 15,
   "metadata": {},
   "outputs": [
    {
     "name": "stdout",
     "output_type": "stream",
     "text": [
      "A integral numérica da função x³ entre 1 e 2 é: 3.7499632388981476\n",
      "Número de retângulos usados: 101\n"
     ]
    }
   ],
   "source": [
    "# Função f(x) = x³\n",
    "f = lambda x: x**3\n",
    "\n",
    "# Função para calcular a área usando a regra dos retângulos (ponto médio)\n",
    "def calcula_area(a, b, func, frame_num):\n",
    "    num_bins = frame_num + 1  # Quantidade de retângulos\n",
    "    delta = (b - a) / num_bins  # Largura do retângulo\n",
    "    x_cols = np.linspace(a, b - delta, num_bins) + delta / 2  # Ponto médio\n",
    "    y_cols = func(x_cols)  # Alturas dos retângulos\n",
    "    return sum(delta * y_cols)\n",
    "\n",
    "# Intervalo de integração e número de retângulos\n",
    "a, b = 1, 2\n",
    "frame_num = 100  # 100 retângulos\n",
    "\n",
    "# Calculando a área\n",
    "area = calcula_area(a, b, f, frame_num)\n",
    "\n",
    "# Exibindo a área e o número de retângulos usados\n",
    "print(f\"A integral numérica da função x³ entre 1 e 2 é: {area}\")\n",
    "print(f\"Número de retângulos usados: {frame_num + 1}\")\n"
   ]
  },
  {
   "cell_type": "markdown",
   "metadata": {},
   "source": [
    "Calculando a área sob a curva da função x³ entre 1 e 2 de forma analítica.\n",
    "\n",
    "A integral de $x^3$ é dada por:\n",
    "\n",
    "$$\n",
    "\\int x^3 \\, dx = \\frac{x^4}{4} + C\n",
    "$$\n",
    "\n",
    "\n",
    "Fica assim:\n",
    "\n",
    "$$\n",
    "\\int_1^2 x^3 \\, dx = \\frac{16}{4} - \\frac{1}{4} = 4 - 0.25 = 3.75\n",
    "$$\n",
    "\n",
    "Portanto, a área sob a curva da função $x^3$ entre 1 e 2 é **3.75**.\n"
   ]
  }
 ],
 "metadata": {
  "kernelspec": {
   "display_name": "Python 3 (ipykernel)",
   "language": "python",
   "name": "python3"
  },
  "language_info": {
   "codemirror_mode": {
    "name": "ipython",
    "version": 3
   },
   "file_extension": ".py",
   "mimetype": "text/x-python",
   "name": "python",
   "nbconvert_exporter": "python",
   "pygments_lexer": "ipython3",
   "version": "3.11.4"
  },
  "toc": {
   "base_numbering": 1,
   "nav_menu": {},
   "number_sections": true,
   "sideBar": true,
   "skip_h1_title": true,
   "title_cell": "Índice",
   "title_sidebar": "Conteúdo",
   "toc_cell": false,
   "toc_position": {},
   "toc_section_display": true,
   "toc_window_display": false
  },
  "varInspector": {
   "cols": {
    "lenName": 16,
    "lenType": 16,
    "lenVar": 40
   },
   "kernels_config": {
    "python": {
     "delete_cmd_postfix": "",
     "delete_cmd_prefix": "del ",
     "library": "var_list.py",
     "varRefreshCmd": "print(var_dic_list())"
    },
    "r": {
     "delete_cmd_postfix": ") ",
     "delete_cmd_prefix": "rm(",
     "library": "var_list.r",
     "varRefreshCmd": "cat(var_dic_list()) "
    }
   },
   "types_to_exclude": [
    "module",
    "function",
    "builtin_function_or_method",
    "instance",
    "_Feature"
   ],
   "window_display": false
  }
 },
 "nbformat": 4,
 "nbformat_minor": 4
}

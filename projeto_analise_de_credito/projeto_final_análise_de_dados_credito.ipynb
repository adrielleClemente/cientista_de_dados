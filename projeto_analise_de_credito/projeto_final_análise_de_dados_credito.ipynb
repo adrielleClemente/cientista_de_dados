{
  "cells": [
    {
      "cell_type": "markdown",
      "id": "8e9b8043",
      "metadata": {
        "id": "8e9b8043"
      },
      "source": [
        "# Projeto Análise de Dados\n",
        "\n",
        "Projeto de fim do módulo de análise de dados do curso Cientista de Dados - EBAC"
      ]
    },
    {
      "cell_type": "markdown",
      "id": "0f40d882",
      "metadata": {
        "id": "0f40d882"
      },
      "source": [
        "**Objetivo:** \n",
        "- Entender a relação entre valor de transações e limite de crédito."
      ]
    },
    {
      "cell_type": "markdown",
      "id": "683805ca",
      "metadata": {
        "id": "683805ca"
      },
      "source": [
        "## Importações\n",
        "Importações das bibliotecas e do arquivo a ser analisado."
      ]
    },
    {
      "cell_type": "code",
      "execution_count": 64,
      "id": "b65529dc",
      "metadata": {
        "id": "b65529dc"
      },
      "outputs": [],
      "source": [
        "import pandas as pd\n",
        "import numpy as np\n",
        "import seaborn as sns\n",
        "import matplotlib.pyplot as plt"
      ]
    },
    {
      "cell_type": "code",
      "execution_count": 65,
      "id": "bc49fe82",
      "metadata": {
        "id": "bc49fe82"
      },
      "outputs": [],
      "source": [
        "df = pd.read_csv('dados_credito.csv')"
      ]
    },
    {
      "cell_type": "markdown",
      "id": "d26d6b4a",
      "metadata": {
        "id": "d26d6b4a"
      },
      "source": [
        "## 1. Exploração dos Dados\n",
        "Para verificar se a importação foi bem sucedida, printo as primeiras linhas."
      ]
    },
    {
      "cell_type": "code",
      "execution_count": 66,
      "id": "ec350ffa",
      "metadata": {
        "colab": {
          "base_uri": "https://localhost:8080/",
          "height": 0
        },
        "id": "ec350ffa",
        "outputId": "440fe48a-e037-4c3b-ee4c-82a05e186041"
      },
      "outputs": [
        {
          "output_type": "execute_result",
          "data": {
            "text/plain": [
              "          id  default  idade sexo  dependentes  escolaridade estado_civil  \\\n",
              "0  768805383        0     45    M            3  ensino medio       casado   \n",
              "1  818770008        0     49    F            5      mestrado     solteiro   \n",
              "\n",
              "    salario_anual tipo_cartao  meses_de_relacionamento  qtd_produtos  \\\n",
              "0     $60K - $80K        blue                       39             5   \n",
              "1  menos que $40K        blue                       44             6   \n",
              "\n",
              "   iteracoes_12m  meses_inativo_12m limite_credito valor_transacoes_12m  \\\n",
              "0              3                  1      12.691,51             1.144,90   \n",
              "1              2                  1       8.256,96             1.291,45   \n",
              "\n",
              "   qtd_transacoes_12m  \n",
              "0                  42  \n",
              "1                  33  "
            ],
            "text/html": [
              "\n",
              "  <div id=\"df-841ae48b-3293-4ef8-8154-891f6e923e79\">\n",
              "    <div class=\"colab-df-container\">\n",
              "      <div>\n",
              "<style scoped>\n",
              "    .dataframe tbody tr th:only-of-type {\n",
              "        vertical-align: middle;\n",
              "    }\n",
              "\n",
              "    .dataframe tbody tr th {\n",
              "        vertical-align: top;\n",
              "    }\n",
              "\n",
              "    .dataframe thead th {\n",
              "        text-align: right;\n",
              "    }\n",
              "</style>\n",
              "<table border=\"1\" class=\"dataframe\">\n",
              "  <thead>\n",
              "    <tr style=\"text-align: right;\">\n",
              "      <th></th>\n",
              "      <th>id</th>\n",
              "      <th>default</th>\n",
              "      <th>idade</th>\n",
              "      <th>sexo</th>\n",
              "      <th>dependentes</th>\n",
              "      <th>escolaridade</th>\n",
              "      <th>estado_civil</th>\n",
              "      <th>salario_anual</th>\n",
              "      <th>tipo_cartao</th>\n",
              "      <th>meses_de_relacionamento</th>\n",
              "      <th>qtd_produtos</th>\n",
              "      <th>iteracoes_12m</th>\n",
              "      <th>meses_inativo_12m</th>\n",
              "      <th>limite_credito</th>\n",
              "      <th>valor_transacoes_12m</th>\n",
              "      <th>qtd_transacoes_12m</th>\n",
              "    </tr>\n",
              "  </thead>\n",
              "  <tbody>\n",
              "    <tr>\n",
              "      <th>0</th>\n",
              "      <td>768805383</td>\n",
              "      <td>0</td>\n",
              "      <td>45</td>\n",
              "      <td>M</td>\n",
              "      <td>3</td>\n",
              "      <td>ensino medio</td>\n",
              "      <td>casado</td>\n",
              "      <td>$60K - $80K</td>\n",
              "      <td>blue</td>\n",
              "      <td>39</td>\n",
              "      <td>5</td>\n",
              "      <td>3</td>\n",
              "      <td>1</td>\n",
              "      <td>12.691,51</td>\n",
              "      <td>1.144,90</td>\n",
              "      <td>42</td>\n",
              "    </tr>\n",
              "    <tr>\n",
              "      <th>1</th>\n",
              "      <td>818770008</td>\n",
              "      <td>0</td>\n",
              "      <td>49</td>\n",
              "      <td>F</td>\n",
              "      <td>5</td>\n",
              "      <td>mestrado</td>\n",
              "      <td>solteiro</td>\n",
              "      <td>menos que $40K</td>\n",
              "      <td>blue</td>\n",
              "      <td>44</td>\n",
              "      <td>6</td>\n",
              "      <td>2</td>\n",
              "      <td>1</td>\n",
              "      <td>8.256,96</td>\n",
              "      <td>1.291,45</td>\n",
              "      <td>33</td>\n",
              "    </tr>\n",
              "  </tbody>\n",
              "</table>\n",
              "</div>\n",
              "      <button class=\"colab-df-convert\" onclick=\"convertToInteractive('df-841ae48b-3293-4ef8-8154-891f6e923e79')\"\n",
              "              title=\"Convert this dataframe to an interactive table.\"\n",
              "              style=\"display:none;\">\n",
              "        \n",
              "  <svg xmlns=\"http://www.w3.org/2000/svg\" height=\"24px\"viewBox=\"0 0 24 24\"\n",
              "       width=\"24px\">\n",
              "    <path d=\"M0 0h24v24H0V0z\" fill=\"none\"/>\n",
              "    <path d=\"M18.56 5.44l.94 2.06.94-2.06 2.06-.94-2.06-.94-.94-2.06-.94 2.06-2.06.94zm-11 1L8.5 8.5l.94-2.06 2.06-.94-2.06-.94L8.5 2.5l-.94 2.06-2.06.94zm10 10l.94 2.06.94-2.06 2.06-.94-2.06-.94-.94-2.06-.94 2.06-2.06.94z\"/><path d=\"M17.41 7.96l-1.37-1.37c-.4-.4-.92-.59-1.43-.59-.52 0-1.04.2-1.43.59L10.3 9.45l-7.72 7.72c-.78.78-.78 2.05 0 2.83L4 21.41c.39.39.9.59 1.41.59.51 0 1.02-.2 1.41-.59l7.78-7.78 2.81-2.81c.8-.78.8-2.07 0-2.86zM5.41 20L4 18.59l7.72-7.72 1.47 1.35L5.41 20z\"/>\n",
              "  </svg>\n",
              "      </button>\n",
              "      \n",
              "  <style>\n",
              "    .colab-df-container {\n",
              "      display:flex;\n",
              "      flex-wrap:wrap;\n",
              "      gap: 12px;\n",
              "    }\n",
              "\n",
              "    .colab-df-convert {\n",
              "      background-color: #E8F0FE;\n",
              "      border: none;\n",
              "      border-radius: 50%;\n",
              "      cursor: pointer;\n",
              "      display: none;\n",
              "      fill: #1967D2;\n",
              "      height: 32px;\n",
              "      padding: 0 0 0 0;\n",
              "      width: 32px;\n",
              "    }\n",
              "\n",
              "    .colab-df-convert:hover {\n",
              "      background-color: #E2EBFA;\n",
              "      box-shadow: 0px 1px 2px rgba(60, 64, 67, 0.3), 0px 1px 3px 1px rgba(60, 64, 67, 0.15);\n",
              "      fill: #174EA6;\n",
              "    }\n",
              "\n",
              "    [theme=dark] .colab-df-convert {\n",
              "      background-color: #3B4455;\n",
              "      fill: #D2E3FC;\n",
              "    }\n",
              "\n",
              "    [theme=dark] .colab-df-convert:hover {\n",
              "      background-color: #434B5C;\n",
              "      box-shadow: 0px 1px 3px 1px rgba(0, 0, 0, 0.15);\n",
              "      filter: drop-shadow(0px 1px 2px rgba(0, 0, 0, 0.3));\n",
              "      fill: #FFFFFF;\n",
              "    }\n",
              "  </style>\n",
              "\n",
              "      <script>\n",
              "        const buttonEl =\n",
              "          document.querySelector('#df-841ae48b-3293-4ef8-8154-891f6e923e79 button.colab-df-convert');\n",
              "        buttonEl.style.display =\n",
              "          google.colab.kernel.accessAllowed ? 'block' : 'none';\n",
              "\n",
              "        async function convertToInteractive(key) {\n",
              "          const element = document.querySelector('#df-841ae48b-3293-4ef8-8154-891f6e923e79');\n",
              "          const dataTable =\n",
              "            await google.colab.kernel.invokeFunction('convertToInteractive',\n",
              "                                                     [key], {});\n",
              "          if (!dataTable) return;\n",
              "\n",
              "          const docLinkHtml = 'Like what you see? Visit the ' +\n",
              "            '<a target=\"_blank\" href=https://colab.research.google.com/notebooks/data_table.ipynb>data table notebook</a>'\n",
              "            + ' to learn more about interactive tables.';\n",
              "          element.innerHTML = '';\n",
              "          dataTable['output_type'] = 'display_data';\n",
              "          await google.colab.output.renderOutput(dataTable, element);\n",
              "          const docLink = document.createElement('div');\n",
              "          docLink.innerHTML = docLinkHtml;\n",
              "          element.appendChild(docLink);\n",
              "        }\n",
              "      </script>\n",
              "    </div>\n",
              "  </div>\n",
              "  "
            ]
          },
          "metadata": {},
          "execution_count": 66
        }
      ],
      "source": [
        "df.head(2)"
      ]
    },
    {
      "cell_type": "markdown",
      "source": [
        "## 1.1. Obtendo informações\n",
        "Para entender melhor os dados, procuro:\n",
        "- Nome de suas colunas;\n",
        "- O volume de dados;\n",
        "- Informação sobre os tipos de dados das colunas;\n",
        "- Procuro saber se há dados ausentes."
      ],
      "metadata": {
        "id": "Ps-CPvYIqg1F"
      },
      "id": "Ps-CPvYIqg1F"
    },
    {
      "cell_type": "code",
      "execution_count": 67,
      "id": "52cdbb76",
      "metadata": {
        "colab": {
          "base_uri": "https://localhost:8080/"
        },
        "id": "52cdbb76",
        "outputId": "4efc11bf-8814-470c-d6f6-0273b4e9bfe0"
      },
      "outputs": [
        {
          "output_type": "stream",
          "name": "stdout",
          "text": [
            "Index(['id', 'default', 'idade', 'sexo', 'dependentes', 'escolaridade',\n",
            "       'estado_civil', 'salario_anual', 'tipo_cartao',\n",
            "       'meses_de_relacionamento', 'qtd_produtos', 'iteracoes_12m',\n",
            "       'meses_inativo_12m', 'limite_credito', 'valor_transacoes_12m',\n",
            "       'qtd_transacoes_12m'],\n",
            "      dtype='object')\n"
          ]
        }
      ],
      "source": [
        "colunas = df.columns\n",
        "print(colunas)"
      ]
    },
    {
      "cell_type": "code",
      "execution_count": 68,
      "id": "e3b50922",
      "metadata": {
        "scrolled": true,
        "colab": {
          "base_uri": "https://localhost:8080/"
        },
        "id": "e3b50922",
        "outputId": "6a3e338d-964d-4095-943d-ca38d3cfb7d8"
      },
      "outputs": [
        {
          "output_type": "stream",
          "name": "stdout",
          "text": [
            "(10127, 16)\n"
          ]
        }
      ],
      "source": [
        "#Linhas[0], colunas[1]\n",
        "linhas_col = df.shape\n",
        "print(linhas_col)"
      ]
    },
    {
      "cell_type": "code",
      "execution_count": 69,
      "id": "a8d108aa",
      "metadata": {
        "scrolled": true,
        "colab": {
          "base_uri": "https://localhost:8080/"
        },
        "id": "a8d108aa",
        "outputId": "1d4f88a8-86e6-4a3d-9cfe-986ee99dc134"
      },
      "outputs": [
        {
          "output_type": "stream",
          "name": "stdout",
          "text": [
            "<class 'pandas.core.frame.DataFrame'>\n",
            "RangeIndex: 10127 entries, 0 to 10126\n",
            "Data columns (total 16 columns):\n",
            " #   Column                   Non-Null Count  Dtype \n",
            "---  ------                   --------------  ----- \n",
            " 0   id                       10127 non-null  int64 \n",
            " 1   default                  10127 non-null  int64 \n",
            " 2   idade                    10127 non-null  int64 \n",
            " 3   sexo                     10127 non-null  object\n",
            " 4   dependentes              10127 non-null  int64 \n",
            " 5   escolaridade             10127 non-null  object\n",
            " 6   estado_civil             10127 non-null  object\n",
            " 7   salario_anual            10127 non-null  object\n",
            " 8   tipo_cartao              10127 non-null  object\n",
            " 9   meses_de_relacionamento  10127 non-null  int64 \n",
            " 10  qtd_produtos             10127 non-null  int64 \n",
            " 11  iteracoes_12m            10127 non-null  int64 \n",
            " 12  meses_inativo_12m        10127 non-null  int64 \n",
            " 13  limite_credito           10127 non-null  object\n",
            " 14  valor_transacoes_12m     10127 non-null  object\n",
            " 15  qtd_transacoes_12m       10127 non-null  int64 \n",
            "dtypes: int64(9), object(7)\n",
            "memory usage: 1.2+ MB\n"
          ]
        }
      ],
      "source": [
        "df.info()"
      ]
    },
    {
      "cell_type": "code",
      "execution_count": 70,
      "id": "67d76d61",
      "metadata": {
        "colab": {
          "base_uri": "https://localhost:8080/"
        },
        "id": "67d76d61",
        "outputId": "acaf83fb-e7eb-4ce5-a96c-755dc8a75bb0"
      },
      "outputs": [
        {
          "output_type": "execute_result",
          "data": {
            "text/plain": [
              "id                         False\n",
              "default                    False\n",
              "idade                      False\n",
              "sexo                       False\n",
              "dependentes                False\n",
              "escolaridade               False\n",
              "estado_civil               False\n",
              "salario_anual              False\n",
              "tipo_cartao                False\n",
              "meses_de_relacionamento    False\n",
              "qtd_produtos               False\n",
              "iteracoes_12m              False\n",
              "meses_inativo_12m          False\n",
              "limite_credito             False\n",
              "valor_transacoes_12m       False\n",
              "qtd_transacoes_12m         False\n",
              "dtype: bool"
            ]
          },
          "metadata": {},
          "execution_count": 70
        }
      ],
      "source": [
        "df.isna().any()"
      ]
    },
    {
      "cell_type": "code",
      "source": [
        "contagem_cartao = df['tipo_cartao'].value_counts()\n",
        "print(contagem_cartao)"
      ],
      "metadata": {
        "colab": {
          "base_uri": "https://localhost:8080/"
        },
        "id": "QHj_SsM1FfCc",
        "outputId": "5ced9721-f51e-4039-b9ba-48a162ac5a0a"
      },
      "id": "QHj_SsM1FfCc",
      "execution_count": 71,
      "outputs": [
        {
          "output_type": "stream",
          "name": "stdout",
          "text": [
            "blue        9436\n",
            "silver       555\n",
            "gold         116\n",
            "platinum      20\n",
            "Name: tipo_cartao, dtype: int64\n"
          ]
        }
      ]
    },
    {
      "cell_type": "code",
      "source": [
        "contagem_escolaridade = df['escolaridade'].value_counts()\n",
        "print(contagem_escolaridade)"
      ],
      "metadata": {
        "colab": {
          "base_uri": "https://localhost:8080/"
        },
        "id": "cEPD93zCtnXU",
        "outputId": "b3be2673-e813-478f-da05-215a3be94d42"
      },
      "id": "cEPD93zCtnXU",
      "execution_count": 72,
      "outputs": [
        {
          "output_type": "stream",
          "name": "stdout",
          "text": [
            "mestrado               3128\n",
            "ensino medio           2013\n",
            "na                     1519\n",
            "sem educacao formal    1487\n",
            "graduacao              1013\n",
            "doutorado               967\n",
            "Name: escolaridade, dtype: int64\n"
          ]
        }
      ]
    },
    {
      "cell_type": "markdown",
      "source": [
        "## 1.2. Valores inconsistentes\n",
        "A exploração busca nas colunas valores inadequados para análise.\n",
        "\n",
        "Como encontrei o valor 'na', procurei saber onde mais havia esse valor."
      ],
      "metadata": {
        "id": "4YmOyHi3s0tN"
      },
      "id": "4YmOyHi3s0tN"
    },
    {
      "cell_type": "code",
      "source": [
        "contador = 0\n",
        "\n",
        "for coluna in df.columns:\n",
        "    for valor in df[coluna]:\n",
        "        if valor == \"na\":\n",
        "            contador += 1\n",
        "\n",
        "print(f\"Foram encontrados {contador} valores 'na' no arquivo CSV.\")"
      ],
      "metadata": {
        "colab": {
          "base_uri": "https://localhost:8080/"
        },
        "id": "ydLoqDEVsBWw",
        "outputId": "45d770a4-4d34-4876-ed25-d75846759ef8"
      },
      "id": "ydLoqDEVsBWw",
      "execution_count": 73,
      "outputs": [
        {
          "output_type": "stream",
          "name": "stdout",
          "text": [
            "Foram encontrados 3380 valores 'na' no arquivo CSV.\n"
          ]
        }
      ]
    },
    {
      "cell_type": "code",
      "source": [
        "contagem_por_coluna = {}\n",
        "\n",
        "for coluna in df.columns:\n",
        "\n",
        "    contagem = 0\n",
        "    \n",
        "    for valor in df[coluna]:\n",
        "        if valor == \"na\":\n",
        "            contagem += 1\n",
        "               \n",
        "    contagem_por_coluna[coluna] = contagem\n",
        "    \n",
        "\n",
        "for coluna, contagem in contagem_por_coluna.items():\n",
        "    print(f\"Foram encontrados {contagem} valores 'na' na coluna '{coluna}'.\")\n",
        "    print('__')"
      ],
      "metadata": {
        "colab": {
          "base_uri": "https://localhost:8080/"
        },
        "id": "QOgsxFqnvdOE",
        "outputId": "2771e69d-5c7e-4a0d-9928-0124ce4cdcb0"
      },
      "id": "QOgsxFqnvdOE",
      "execution_count": 74,
      "outputs": [
        {
          "output_type": "stream",
          "name": "stdout",
          "text": [
            "Foram encontrados 0 valores 'na' na coluna 'id'.\n",
            "__\n",
            "Foram encontrados 0 valores 'na' na coluna 'default'.\n",
            "__\n",
            "Foram encontrados 0 valores 'na' na coluna 'idade'.\n",
            "__\n",
            "Foram encontrados 0 valores 'na' na coluna 'sexo'.\n",
            "__\n",
            "Foram encontrados 0 valores 'na' na coluna 'dependentes'.\n",
            "__\n",
            "Foram encontrados 1519 valores 'na' na coluna 'escolaridade'.\n",
            "__\n",
            "Foram encontrados 749 valores 'na' na coluna 'estado_civil'.\n",
            "__\n",
            "Foram encontrados 1112 valores 'na' na coluna 'salario_anual'.\n",
            "__\n",
            "Foram encontrados 0 valores 'na' na coluna 'tipo_cartao'.\n",
            "__\n",
            "Foram encontrados 0 valores 'na' na coluna 'meses_de_relacionamento'.\n",
            "__\n",
            "Foram encontrados 0 valores 'na' na coluna 'qtd_produtos'.\n",
            "__\n",
            "Foram encontrados 0 valores 'na' na coluna 'iteracoes_12m'.\n",
            "__\n",
            "Foram encontrados 0 valores 'na' na coluna 'meses_inativo_12m'.\n",
            "__\n",
            "Foram encontrados 0 valores 'na' na coluna 'limite_credito'.\n",
            "__\n",
            "Foram encontrados 0 valores 'na' na coluna 'valor_transacoes_12m'.\n",
            "__\n",
            "Foram encontrados 0 valores 'na' na coluna 'qtd_transacoes_12m'.\n",
            "__\n"
          ]
        }
      ]
    },
    {
      "cell_type": "markdown",
      "source": [
        "\n",
        "## 2. Transfomação e Limpeza"
      ],
      "metadata": {
        "id": "YZsqx2Nm-emb"
      },
      "id": "YZsqx2Nm-emb"
    },
    {
      "cell_type": "code",
      "source": [
        "df['limite_credito'].info()"
      ],
      "metadata": {
        "colab": {
          "base_uri": "https://localhost:8080/"
        },
        "id": "VOTJ84kaKTYT",
        "outputId": "e107c8e6-4be9-4048-c5b8-b2b56497ccbf"
      },
      "id": "VOTJ84kaKTYT",
      "execution_count": 75,
      "outputs": [
        {
          "output_type": "stream",
          "name": "stdout",
          "text": [
            "<class 'pandas.core.series.Series'>\n",
            "RangeIndex: 10127 entries, 0 to 10126\n",
            "Series name: limite_credito\n",
            "Non-Null Count  Dtype \n",
            "--------------  ----- \n",
            "10127 non-null  object\n",
            "dtypes: object(1)\n",
            "memory usage: 79.2+ KB\n"
          ]
        }
      ]
    },
    {
      "cell_type": "markdown",
      "source": [
        "## 2.1. Correção do Schema"
      ],
      "metadata": {
        "id": "8cmXIF7IOrBL"
      },
      "id": "8cmXIF7IOrBL"
    },
    {
      "cell_type": "code",
      "source": [
        "df[['limite_credito', 'valor_transacoes_12m']].dtypes"
      ],
      "metadata": {
        "colab": {
          "base_uri": "https://localhost:8080/"
        },
        "id": "PtwJVXc2LbcI",
        "outputId": "b8d87008-4467-4bf2-dd79-972220ac0c14"
      },
      "id": "PtwJVXc2LbcI",
      "execution_count": 76,
      "outputs": [
        {
          "output_type": "execute_result",
          "data": {
            "text/plain": [
              "limite_credito          object\n",
              "valor_transacoes_12m    object\n",
              "dtype: object"
            ]
          },
          "metadata": {},
          "execution_count": 76
        }
      ]
    },
    {
      "cell_type": "code",
      "source": [
        "df[['limite_credito', 'valor_transacoes_12m']].head(5)"
      ],
      "metadata": {
        "colab": {
          "base_uri": "https://localhost:8080/",
          "height": 206
        },
        "id": "oAFSa06pO621",
        "outputId": "89406a53-8f35-4b9f-eeb6-f1b525f9f766"
      },
      "id": "oAFSa06pO621",
      "execution_count": 77,
      "outputs": [
        {
          "output_type": "execute_result",
          "data": {
            "text/plain": [
              "  limite_credito valor_transacoes_12m\n",
              "0      12.691,51             1.144,90\n",
              "1       8.256,96             1.291,45\n",
              "2       3.418,56             1.887,72\n",
              "3       3.313,03             1.171,56\n",
              "4       4.716,22               816,08"
            ],
            "text/html": [
              "\n",
              "  <div id=\"df-9278bd0f-0667-44fc-80bd-a4ff49bae6d5\">\n",
              "    <div class=\"colab-df-container\">\n",
              "      <div>\n",
              "<style scoped>\n",
              "    .dataframe tbody tr th:only-of-type {\n",
              "        vertical-align: middle;\n",
              "    }\n",
              "\n",
              "    .dataframe tbody tr th {\n",
              "        vertical-align: top;\n",
              "    }\n",
              "\n",
              "    .dataframe thead th {\n",
              "        text-align: right;\n",
              "    }\n",
              "</style>\n",
              "<table border=\"1\" class=\"dataframe\">\n",
              "  <thead>\n",
              "    <tr style=\"text-align: right;\">\n",
              "      <th></th>\n",
              "      <th>limite_credito</th>\n",
              "      <th>valor_transacoes_12m</th>\n",
              "    </tr>\n",
              "  </thead>\n",
              "  <tbody>\n",
              "    <tr>\n",
              "      <th>0</th>\n",
              "      <td>12.691,51</td>\n",
              "      <td>1.144,90</td>\n",
              "    </tr>\n",
              "    <tr>\n",
              "      <th>1</th>\n",
              "      <td>8.256,96</td>\n",
              "      <td>1.291,45</td>\n",
              "    </tr>\n",
              "    <tr>\n",
              "      <th>2</th>\n",
              "      <td>3.418,56</td>\n",
              "      <td>1.887,72</td>\n",
              "    </tr>\n",
              "    <tr>\n",
              "      <th>3</th>\n",
              "      <td>3.313,03</td>\n",
              "      <td>1.171,56</td>\n",
              "    </tr>\n",
              "    <tr>\n",
              "      <th>4</th>\n",
              "      <td>4.716,22</td>\n",
              "      <td>816,08</td>\n",
              "    </tr>\n",
              "  </tbody>\n",
              "</table>\n",
              "</div>\n",
              "      <button class=\"colab-df-convert\" onclick=\"convertToInteractive('df-9278bd0f-0667-44fc-80bd-a4ff49bae6d5')\"\n",
              "              title=\"Convert this dataframe to an interactive table.\"\n",
              "              style=\"display:none;\">\n",
              "        \n",
              "  <svg xmlns=\"http://www.w3.org/2000/svg\" height=\"24px\"viewBox=\"0 0 24 24\"\n",
              "       width=\"24px\">\n",
              "    <path d=\"M0 0h24v24H0V0z\" fill=\"none\"/>\n",
              "    <path d=\"M18.56 5.44l.94 2.06.94-2.06 2.06-.94-2.06-.94-.94-2.06-.94 2.06-2.06.94zm-11 1L8.5 8.5l.94-2.06 2.06-.94-2.06-.94L8.5 2.5l-.94 2.06-2.06.94zm10 10l.94 2.06.94-2.06 2.06-.94-2.06-.94-.94-2.06-.94 2.06-2.06.94z\"/><path d=\"M17.41 7.96l-1.37-1.37c-.4-.4-.92-.59-1.43-.59-.52 0-1.04.2-1.43.59L10.3 9.45l-7.72 7.72c-.78.78-.78 2.05 0 2.83L4 21.41c.39.39.9.59 1.41.59.51 0 1.02-.2 1.41-.59l7.78-7.78 2.81-2.81c.8-.78.8-2.07 0-2.86zM5.41 20L4 18.59l7.72-7.72 1.47 1.35L5.41 20z\"/>\n",
              "  </svg>\n",
              "      </button>\n",
              "      \n",
              "  <style>\n",
              "    .colab-df-container {\n",
              "      display:flex;\n",
              "      flex-wrap:wrap;\n",
              "      gap: 12px;\n",
              "    }\n",
              "\n",
              "    .colab-df-convert {\n",
              "      background-color: #E8F0FE;\n",
              "      border: none;\n",
              "      border-radius: 50%;\n",
              "      cursor: pointer;\n",
              "      display: none;\n",
              "      fill: #1967D2;\n",
              "      height: 32px;\n",
              "      padding: 0 0 0 0;\n",
              "      width: 32px;\n",
              "    }\n",
              "\n",
              "    .colab-df-convert:hover {\n",
              "      background-color: #E2EBFA;\n",
              "      box-shadow: 0px 1px 2px rgba(60, 64, 67, 0.3), 0px 1px 3px 1px rgba(60, 64, 67, 0.15);\n",
              "      fill: #174EA6;\n",
              "    }\n",
              "\n",
              "    [theme=dark] .colab-df-convert {\n",
              "      background-color: #3B4455;\n",
              "      fill: #D2E3FC;\n",
              "    }\n",
              "\n",
              "    [theme=dark] .colab-df-convert:hover {\n",
              "      background-color: #434B5C;\n",
              "      box-shadow: 0px 1px 3px 1px rgba(0, 0, 0, 0.15);\n",
              "      filter: drop-shadow(0px 1px 2px rgba(0, 0, 0, 0.3));\n",
              "      fill: #FFFFFF;\n",
              "    }\n",
              "  </style>\n",
              "\n",
              "      <script>\n",
              "        const buttonEl =\n",
              "          document.querySelector('#df-9278bd0f-0667-44fc-80bd-a4ff49bae6d5 button.colab-df-convert');\n",
              "        buttonEl.style.display =\n",
              "          google.colab.kernel.accessAllowed ? 'block' : 'none';\n",
              "\n",
              "        async function convertToInteractive(key) {\n",
              "          const element = document.querySelector('#df-9278bd0f-0667-44fc-80bd-a4ff49bae6d5');\n",
              "          const dataTable =\n",
              "            await google.colab.kernel.invokeFunction('convertToInteractive',\n",
              "                                                     [key], {});\n",
              "          if (!dataTable) return;\n",
              "\n",
              "          const docLinkHtml = 'Like what you see? Visit the ' +\n",
              "            '<a target=\"_blank\" href=https://colab.research.google.com/notebooks/data_table.ipynb>data table notebook</a>'\n",
              "            + ' to learn more about interactive tables.';\n",
              "          element.innerHTML = '';\n",
              "          dataTable['output_type'] = 'display_data';\n",
              "          await google.colab.output.renderOutput(dataTable, element);\n",
              "          const docLink = document.createElement('div');\n",
              "          docLink.innerHTML = docLinkHtml;\n",
              "          element.appendChild(docLink);\n",
              "        }\n",
              "      </script>\n",
              "    </div>\n",
              "  </div>\n",
              "  "
            ]
          },
          "metadata": {},
          "execution_count": 77
        }
      ]
    },
    {
      "cell_type": "markdown",
      "source": [
        "- Convertendo colunas tipo **object** para **float**."
      ],
      "metadata": {
        "id": "CAV1EjSIb_5r"
      },
      "id": "CAV1EjSIb_5r"
    },
    {
      "cell_type": "code",
      "source": [
        "fn = lambda valor: float(valor.replace(\".\", \"\").replace(\",\", \".\"))\n"
      ],
      "metadata": {
        "id": "plAbJZ3ZPCni"
      },
      "id": "plAbJZ3ZPCni",
      "execution_count": 78,
      "outputs": []
    },
    {
      "cell_type": "code",
      "source": [
        "df['valor_transacoes_12m'] = df['valor_transacoes_12m'].apply(fn)\n",
        "df['limite_credito'] = df['limite_credito'].apply(fn)"
      ],
      "metadata": {
        "id": "0ypzjqVQQCXl"
      },
      "id": "0ypzjqVQQCXl",
      "execution_count": 79,
      "outputs": []
    },
    {
      "cell_type": "code",
      "source": [
        "df[['limite_credito', 'valor_transacoes_12m']].dtypes"
      ],
      "metadata": {
        "colab": {
          "base_uri": "https://localhost:8080/"
        },
        "id": "dS56vNpYQHIC",
        "outputId": "0b738bb5-f5e0-46f9-bd07-778639176f80"
      },
      "id": "dS56vNpYQHIC",
      "execution_count": 80,
      "outputs": [
        {
          "output_type": "execute_result",
          "data": {
            "text/plain": [
              "limite_credito          float64\n",
              "valor_transacoes_12m    float64\n",
              "dtype: object"
            ]
          },
          "metadata": {},
          "execution_count": 80
        }
      ]
    },
    {
      "cell_type": "code",
      "source": [
        "df.select_dtypes('object').describe().transpose()"
      ],
      "metadata": {
        "colab": {
          "base_uri": "https://localhost:8080/",
          "height": 206
        },
        "id": "5OXa9X9Bainr",
        "outputId": "7831cef8-07ba-493c-bb0d-67f6d455034c"
      },
      "id": "5OXa9X9Bainr",
      "execution_count": 81,
      "outputs": [
        {
          "output_type": "execute_result",
          "data": {
            "text/plain": [
              "               count unique             top  freq\n",
              "sexo           10127      2               F  5358\n",
              "escolaridade   10127      6        mestrado  3128\n",
              "estado_civil   10127      4          casado  4687\n",
              "salario_anual  10127      6  menos que $40K  3561\n",
              "tipo_cartao    10127      4            blue  9436"
            ],
            "text/html": [
              "\n",
              "  <div id=\"df-d6a300be-a4d1-434a-88ee-6ac30136cc16\">\n",
              "    <div class=\"colab-df-container\">\n",
              "      <div>\n",
              "<style scoped>\n",
              "    .dataframe tbody tr th:only-of-type {\n",
              "        vertical-align: middle;\n",
              "    }\n",
              "\n",
              "    .dataframe tbody tr th {\n",
              "        vertical-align: top;\n",
              "    }\n",
              "\n",
              "    .dataframe thead th {\n",
              "        text-align: right;\n",
              "    }\n",
              "</style>\n",
              "<table border=\"1\" class=\"dataframe\">\n",
              "  <thead>\n",
              "    <tr style=\"text-align: right;\">\n",
              "      <th></th>\n",
              "      <th>count</th>\n",
              "      <th>unique</th>\n",
              "      <th>top</th>\n",
              "      <th>freq</th>\n",
              "    </tr>\n",
              "  </thead>\n",
              "  <tbody>\n",
              "    <tr>\n",
              "      <th>sexo</th>\n",
              "      <td>10127</td>\n",
              "      <td>2</td>\n",
              "      <td>F</td>\n",
              "      <td>5358</td>\n",
              "    </tr>\n",
              "    <tr>\n",
              "      <th>escolaridade</th>\n",
              "      <td>10127</td>\n",
              "      <td>6</td>\n",
              "      <td>mestrado</td>\n",
              "      <td>3128</td>\n",
              "    </tr>\n",
              "    <tr>\n",
              "      <th>estado_civil</th>\n",
              "      <td>10127</td>\n",
              "      <td>4</td>\n",
              "      <td>casado</td>\n",
              "      <td>4687</td>\n",
              "    </tr>\n",
              "    <tr>\n",
              "      <th>salario_anual</th>\n",
              "      <td>10127</td>\n",
              "      <td>6</td>\n",
              "      <td>menos que $40K</td>\n",
              "      <td>3561</td>\n",
              "    </tr>\n",
              "    <tr>\n",
              "      <th>tipo_cartao</th>\n",
              "      <td>10127</td>\n",
              "      <td>4</td>\n",
              "      <td>blue</td>\n",
              "      <td>9436</td>\n",
              "    </tr>\n",
              "  </tbody>\n",
              "</table>\n",
              "</div>\n",
              "      <button class=\"colab-df-convert\" onclick=\"convertToInteractive('df-d6a300be-a4d1-434a-88ee-6ac30136cc16')\"\n",
              "              title=\"Convert this dataframe to an interactive table.\"\n",
              "              style=\"display:none;\">\n",
              "        \n",
              "  <svg xmlns=\"http://www.w3.org/2000/svg\" height=\"24px\"viewBox=\"0 0 24 24\"\n",
              "       width=\"24px\">\n",
              "    <path d=\"M0 0h24v24H0V0z\" fill=\"none\"/>\n",
              "    <path d=\"M18.56 5.44l.94 2.06.94-2.06 2.06-.94-2.06-.94-.94-2.06-.94 2.06-2.06.94zm-11 1L8.5 8.5l.94-2.06 2.06-.94-2.06-.94L8.5 2.5l-.94 2.06-2.06.94zm10 10l.94 2.06.94-2.06 2.06-.94-2.06-.94-.94-2.06-.94 2.06-2.06.94z\"/><path d=\"M17.41 7.96l-1.37-1.37c-.4-.4-.92-.59-1.43-.59-.52 0-1.04.2-1.43.59L10.3 9.45l-7.72 7.72c-.78.78-.78 2.05 0 2.83L4 21.41c.39.39.9.59 1.41.59.51 0 1.02-.2 1.41-.59l7.78-7.78 2.81-2.81c.8-.78.8-2.07 0-2.86zM5.41 20L4 18.59l7.72-7.72 1.47 1.35L5.41 20z\"/>\n",
              "  </svg>\n",
              "      </button>\n",
              "      \n",
              "  <style>\n",
              "    .colab-df-container {\n",
              "      display:flex;\n",
              "      flex-wrap:wrap;\n",
              "      gap: 12px;\n",
              "    }\n",
              "\n",
              "    .colab-df-convert {\n",
              "      background-color: #E8F0FE;\n",
              "      border: none;\n",
              "      border-radius: 50%;\n",
              "      cursor: pointer;\n",
              "      display: none;\n",
              "      fill: #1967D2;\n",
              "      height: 32px;\n",
              "      padding: 0 0 0 0;\n",
              "      width: 32px;\n",
              "    }\n",
              "\n",
              "    .colab-df-convert:hover {\n",
              "      background-color: #E2EBFA;\n",
              "      box-shadow: 0px 1px 2px rgba(60, 64, 67, 0.3), 0px 1px 3px 1px rgba(60, 64, 67, 0.15);\n",
              "      fill: #174EA6;\n",
              "    }\n",
              "\n",
              "    [theme=dark] .colab-df-convert {\n",
              "      background-color: #3B4455;\n",
              "      fill: #D2E3FC;\n",
              "    }\n",
              "\n",
              "    [theme=dark] .colab-df-convert:hover {\n",
              "      background-color: #434B5C;\n",
              "      box-shadow: 0px 1px 3px 1px rgba(0, 0, 0, 0.15);\n",
              "      filter: drop-shadow(0px 1px 2px rgba(0, 0, 0, 0.3));\n",
              "      fill: #FFFFFF;\n",
              "    }\n",
              "  </style>\n",
              "\n",
              "      <script>\n",
              "        const buttonEl =\n",
              "          document.querySelector('#df-d6a300be-a4d1-434a-88ee-6ac30136cc16 button.colab-df-convert');\n",
              "        buttonEl.style.display =\n",
              "          google.colab.kernel.accessAllowed ? 'block' : 'none';\n",
              "\n",
              "        async function convertToInteractive(key) {\n",
              "          const element = document.querySelector('#df-d6a300be-a4d1-434a-88ee-6ac30136cc16');\n",
              "          const dataTable =\n",
              "            await google.colab.kernel.invokeFunction('convertToInteractive',\n",
              "                                                     [key], {});\n",
              "          if (!dataTable) return;\n",
              "\n",
              "          const docLinkHtml = 'Like what you see? Visit the ' +\n",
              "            '<a target=\"_blank\" href=https://colab.research.google.com/notebooks/data_table.ipynb>data table notebook</a>'\n",
              "            + ' to learn more about interactive tables.';\n",
              "          element.innerHTML = '';\n",
              "          dataTable['output_type'] = 'display_data';\n",
              "          await google.colab.output.renderOutput(dataTable, element);\n",
              "          const docLink = document.createElement('div');\n",
              "          docLink.innerHTML = docLinkHtml;\n",
              "          element.appendChild(docLink);\n",
              "        }\n",
              "      </script>\n",
              "    </div>\n",
              "  </div>\n",
              "  "
            ]
          },
          "metadata": {},
          "execution_count": 81
        }
      ]
    },
    {
      "cell_type": "markdown",
      "source": [
        "## 2.2. Remoção dos dados inconsistentes"
      ],
      "metadata": {
        "id": "XP8yURgWceGu"
      },
      "id": "XP8yURgWceGu"
    },
    {
      "cell_type": "code",
      "source": [
        "df.dropna(inplace=True)"
      ],
      "metadata": {
        "id": "yS0EdMD5cOet"
      },
      "id": "yS0EdMD5cOet",
      "execution_count": 82,
      "outputs": []
    },
    {
      "cell_type": "code",
      "source": [
        "df.shape"
      ],
      "metadata": {
        "colab": {
          "base_uri": "https://localhost:8080/"
        },
        "id": "0a4ZjgZbc16v",
        "outputId": "7baa7949-a0aa-44e0-cb2f-0ac44664a6ba"
      },
      "id": "0a4ZjgZbc16v",
      "execution_count": 83,
      "outputs": [
        {
          "output_type": "execute_result",
          "data": {
            "text/plain": [
              "(10127, 16)"
            ]
          },
          "metadata": {},
          "execution_count": 83
        }
      ]
    },
    {
      "cell_type": "code",
      "source": [
        "df[df['default'] == 0].shape"
      ],
      "metadata": {
        "colab": {
          "base_uri": "https://localhost:8080/"
        },
        "id": "ffSMXgYbc-Gj",
        "outputId": "e58d2800-a857-4749-be2e-c151e86b3ec4"
      },
      "id": "ffSMXgYbc-Gj",
      "execution_count": 84,
      "outputs": [
        {
          "output_type": "execute_result",
          "data": {
            "text/plain": [
              "(8500, 16)"
            ]
          },
          "metadata": {},
          "execution_count": 84
        }
      ]
    },
    {
      "cell_type": "code",
      "source": [
        "df[df['default'] == 1].shape"
      ],
      "metadata": {
        "colab": {
          "base_uri": "https://localhost:8080/"
        },
        "id": "aIGJgmBSdB5N",
        "outputId": "fb0a6089-0f3b-4a3e-aa71-afa769b75f02"
      },
      "id": "aIGJgmBSdB5N",
      "execution_count": 85,
      "outputs": [
        {
          "output_type": "execute_result",
          "data": {
            "text/plain": [
              "(1627, 16)"
            ]
          },
          "metadata": {},
          "execution_count": 85
        }
      ]
    },
    {
      "cell_type": "markdown",
      "id": "f73e2f90",
      "metadata": {
        "id": "f73e2f90"
      },
      "source": [
        "## 3. Visualização dos Dados"
      ]
    },
    {
      "cell_type": "code",
      "source": [
        "dados_colunas = df[['limite_credito','valor_transacoes_12m']].describe()\n",
        "print(dados_colunas)"
      ],
      "metadata": {
        "id": "Yete3Ut_HHEE",
        "colab": {
          "base_uri": "https://localhost:8080/"
        },
        "outputId": "1fe59b05-9e34-4765-8e86-f53fffd26e95"
      },
      "id": "Yete3Ut_HHEE",
      "execution_count": 86,
      "outputs": [
        {
          "output_type": "stream",
          "name": "stdout",
          "text": [
            "       limite_credito  valor_transacoes_12m\n",
            "count    10127.000000          10127.000000\n",
            "mean      8632.440165           4404.583047\n",
            "std       9088.788041           3397.128078\n",
            "min       1438.000000            510.160000\n",
            "25%       2555.355000           2155.825000\n",
            "50%       4549.420000           3899.590000\n",
            "75%      11068.175000           4741.310000\n",
            "max      34516.990000          18484.930000\n"
          ]
        }
      ]
    },
    {
      "cell_type": "markdown",
      "source": [
        "- A função abaixo apresenta o menor e maior valor de **limite de crédito** e **valor de transações**. "
      ],
      "metadata": {
        "id": "JKhrJSsNgeQR"
      },
      "id": "JKhrJSsNgeQR"
    },
    {
      "cell_type": "code",
      "source": [
        "def min_max_coluna(df, coluna):\n",
        "\n",
        "    menor_valor = df[coluna].min()\n",
        "    maior_valor = df[coluna].max()\n",
        "    \n",
        "    return (menor_valor, maior_valor)\n",
        "\n",
        "colunas = ['limite_credito', 'valor_transacoes_12m']\n",
        "\n",
        "for coluna in colunas:\n",
        "    valores = min_max_coluna(df, coluna)\n",
        "    print(f\"Os valores mínimo e máximo na coluna '{coluna}' são:\", valores)"
      ],
      "metadata": {
        "colab": {
          "base_uri": "https://localhost:8080/"
        },
        "id": "aozeyeEpfIxB",
        "outputId": "4380956c-ff60-43de-f97e-411ee4fd0aeb"
      },
      "id": "aozeyeEpfIxB",
      "execution_count": 87,
      "outputs": [
        {
          "output_type": "stream",
          "name": "stdout",
          "text": [
            "Os valores mínimo e máximo na coluna 'limite_credito' são: (1438.0, 34516.99)\n",
            "Os valores mínimo e máximo na coluna 'valor_transacoes_12m' são: (510.16, 18484.93)\n"
          ]
        }
      ]
    },
    {
      "cell_type": "markdown",
      "source": [
        "## 3.1. Comparação de Colunas\n",
        "O objetivo é expor a soma do valor de transações para cada tipo de cartão, e por fim a média de limite de crédito de cada tipo de cartão."
      ],
      "metadata": {
        "id": "LDXOQCEQg_q0"
      },
      "id": "LDXOQCEQg_q0"
    },
    {
      "cell_type": "code",
      "source": [
        "contagem_cartao = df['tipo_cartao'].value_counts()\n",
        "print(contagem_cartao)"
      ],
      "metadata": {
        "colab": {
          "base_uri": "https://localhost:8080/"
        },
        "id": "9JK0xSk-hDBA",
        "outputId": "670054c9-a319-4932-a122-314c440ef0d9"
      },
      "id": "9JK0xSk-hDBA",
      "execution_count": 88,
      "outputs": [
        {
          "output_type": "stream",
          "name": "stdout",
          "text": [
            "blue        9436\n",
            "silver       555\n",
            "gold         116\n",
            "platinum      20\n",
            "Name: tipo_cartao, dtype: int64\n"
          ]
        }
      ]
    },
    {
      "cell_type": "code",
      "source": [
        "somas_cartao = df.groupby('tipo_cartao')['valor_transacoes_12m'].sum()\n",
        "\n",
        "print(somas_cartao)"
      ],
      "metadata": {
        "colab": {
          "base_uri": "https://localhost:8080/"
        },
        "id": "boBpFI9N4lZL",
        "outputId": "3d45db4a-d755-4291-aa09-884507a10b33"
      },
      "id": "boBpFI9N4lZL",
      "execution_count": 89,
      "outputs": [
        {
          "output_type": "stream",
          "name": "stdout",
          "text": [
            "tipo_cartao\n",
            "blue        39875634.84\n",
            "gold          891587.61\n",
            "platinum      180004.60\n",
            "silver       3657985.47\n",
            "Name: valor_transacoes_12m, dtype: float64\n"
          ]
        }
      ]
    },
    {
      "cell_type": "code",
      "source": [
        "somas_cartao = {'blue': 39875634.84, \n",
        "                'gold': 891587.61,\n",
        "                'platinum': 180004.60,\n",
        "                'silver': 3657985.47}\n",
        "\n",
        "cores = ['Blue','Gold', 'Black', 'Silver']\n",
        "plt.pie(somas_cartao.values(), labels=somas_cartao.keys(), colors=cores, autopct='%1.1f%%')\n",
        "plt.title('Soma dos valores de transações por tipo de cartão')\n",
        "plt.show()"
      ],
      "metadata": {
        "colab": {
          "base_uri": "https://localhost:8080/",
          "height": 428
        },
        "id": "bbJdAx1N5C5Z",
        "outputId": "c16251a5-8cb4-4b5b-b6e5-71bc75a89143"
      },
      "id": "bbJdAx1N5C5Z",
      "execution_count": 92,
      "outputs": [
        {
          "output_type": "display_data",
          "data": {
            "text/plain": [
              "<Figure size 640x480 with 1 Axes>"
            ],
            "image/png": "[encoded data removed]"
          },
          "metadata": {}
        }
      ]
    },
    {
      "cell_type": "markdown",
      "source": [
        "##3.2. Média de Limite de Crédito"
      ],
      "metadata": {
        "id": "zV72bb9zB4dB"
      },
      "id": "zV72bb9zB4dB"
    },
    {
      "cell_type": "code",
      "source": [
        "for cartao in df['tipo_cartao'].unique():\n",
        "    media_limite = df.loc[df['tipo_cartao'] == cartao, 'limite_credito'].mean()\n",
        "    print(f\"Média dos valores de limite para o cartão tipo'{cartao}': {media_limite.round(2)}\")\n"
      ],
      "metadata": {
        "colab": {
          "base_uri": "https://localhost:8080/"
        },
        "id": "iyNX3J_j5o5E",
        "outputId": "455cfa34-5462-4e6f-b02a-62f87b306947"
      },
      "id": "iyNX3J_j5o5E",
      "execution_count": 91,
      "outputs": [
        {
          "output_type": "stream",
          "name": "stdout",
          "text": [
            "Média dos valores de limite para o cartão tipo'blue': 7364.27\n",
            "Média dos valores de limite para o cartão tipo'gold': 28416.93\n",
            "Média dos valores de limite para o cartão tipo'silver': 25278.33\n",
            "Média dos valores de limite para o cartão tipo'platinum': 30283.91\n"
          ]
        }
      ]
    },
    {
      "cell_type": "markdown",
      "source": [
        "## 4.Conclusão\n",
        "A soma do valor de transação do cartão tipo **'blue'** é consideravelmente grande. Mesmo assim, no aspecto geral, é o que contém a menor média de limite de crédito.\n",
        "\n",
        "O cartão **platinum** destaca-se com o maior limite de crédito, porém com a menor taxa de aquisição, apenas 20 clientes.\n",
        "\n"
      ],
      "metadata": {
        "id": "244i-_-q-W0E"
      },
      "id": "244i-_-q-W0E"
    }
  ],
  "metadata": {
    "kernelspec": {
      "display_name": "Python 3 (ipykernel)",
      "language": "python",
      "name": "python3"
    },
    "language_info": {
      "codemirror_mode": {
        "name": "ipython",
        "version": 3
      },
      "file_extension": ".py",
      "mimetype": "text/x-python",
      "name": "python",
      "nbconvert_exporter": "python",
      "pygments_lexer": "ipython3",
      "version": "3.10.4"
    },
    "colab": {
      "provenance": []
    }
  },
  "nbformat": 4,
  "nbformat_minor": 5
}